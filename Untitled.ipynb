{
 "cells": [
  {
   "cell_type": "code",
   "execution_count": 37,
   "id": "a66752be",
   "metadata": {},
   "outputs": [],
   "source": [
    "import numpy as np\n",
    "bingo = np.random.randint(1, 99) # random int from 1 to 99"
   ]
  },
  {
   "cell_type": "code",
   "execution_count": 38,
   "id": "4bfd32d9",
   "metadata": {},
   "outputs": [
    {
     "name": "stdout",
     "output_type": "stream",
     "text": [
      "40\n"
     ]
    }
   ],
   "source": [
    "print(bingo)"
   ]
  },
  {
   "cell_type": "code",
   "execution_count": null,
   "id": "5985fa7e",
   "metadata": {},
   "outputs": [
    {
     "name": "stdout",
     "output_type": "stream",
     "text": [
      "number: 90\n",
      "[1, 90]\n",
      "number: b\n",
      "-please enter a number-\n",
      "number: 0000\n",
      "-invalid number, try again-\n",
      "[1, 90]\n",
      "number: 999999\n",
      "-invalid number, try again-\n",
      "[1, 90]\n",
      "number: 47\n",
      "[1, 47]\n",
      "number: 39\n",
      "[39, 47]\n"
     ]
    }
   ],
   "source": [
    "remain = [1,100]\n",
    "\n",
    "while True:\n",
    "    try: \n",
    "        guess = int(input('number: '))  \n",
    "    \n",
    "        if guess < remain[0] or guess > remain[1]:\n",
    "            print('-invalid number, try again-')\n",
    "            print(remain)\n",
    "        elif guess == bingo:\n",
    "            print('game over')\n",
    "            break \n",
    "        elif guess > bingo:\n",
    "            remain[1] = guess\n",
    "            print(remain)\n",
    "        elif guess < bingo:\n",
    "            remain[0] = guess\n",
    "            print(remain)\n",
    "\n",
    "    except ValueError:\n",
    "        print('-please enter a number-')"
   ]
  },
  {
   "cell_type": "code",
   "execution_count": null,
   "id": "9a6dedee",
   "metadata": {},
   "outputs": [],
   "source": []
  }
 ],
 "metadata": {
  "kernelspec": {
   "display_name": "Python 3",
   "language": "python",
   "name": "python3"
  },
  "language_info": {
   "codemirror_mode": {
    "name": "ipython",
    "version": 3
   },
   "file_extension": ".py",
   "mimetype": "text/x-python",
   "name": "python",
   "nbconvert_exporter": "python",
   "pygments_lexer": "ipython3",
   "version": "3.8.8"
  }
 },
 "nbformat": 4,
 "nbformat_minor": 5
}
