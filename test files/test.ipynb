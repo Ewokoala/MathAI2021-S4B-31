{
 "cells": [
  {
   "cell_type": "markdown",
   "id": "97eb0f65",
   "metadata": {},
   "source": [
    "input n\n",
    "\n",
    "output n + nn + nnn\n",
    "\n",
    "input 2\n",
    "\n",
    "output 246"
   ]
  },
  {
   "cell_type": "code",
   "execution_count": null,
   "id": "c764dc79",
   "metadata": {},
   "outputs": [],
   "source": [
    "n = input(' >> ')"
   ]
  },
  {
   "cell_type": "code",
   "execution_count": null,
   "id": "7c520519",
   "metadata": {},
   "outputs": [],
   "source": [
    "print(n)"
   ]
  },
  {
   "cell_type": "code",
   "execution_count": null,
   "id": "4a20e8b5",
   "metadata": {},
   "outputs": [],
   "source": [
    "print( int(n)+ int(n*2) + int(n*3))"
   ]
  },
  {
   "cell_type": "code",
   "execution_count": 24,
   "id": "b5fc0384",
   "metadata": {},
   "outputs": [
    {
     "name": "stdout",
     "output_type": "stream",
     "text": [
      ">>20\n"
     ]
    }
   ],
   "source": [
    "n = int(input('>>'))"
   ]
  },
  {
   "cell_type": "code",
   "execution_count": 4,
   "id": "c90ede9a",
   "metadata": {},
   "outputs": [
    {
     "name": "stdout",
     "output_type": "stream",
     "text": [
      "*\n",
      "***\n",
      "*****\n",
      "*******\n",
      "*********\n"
     ]
    }
   ],
   "source": [
    "for i in range(1,n+1,2):\n",
    "    print('*'*i)"
   ]
  },
  {
   "cell_type": "code",
   "execution_count": 3,
   "id": "18189c59",
   "metadata": {
    "scrolled": true
   },
   "outputs": [
    {
     "name": "stdout",
     "output_type": "stream",
     "text": [
      "*\n",
      "***\n",
      "*****\n",
      "*******\n",
      "*********\n"
     ]
    }
   ],
   "source": [
    "i = 1\n",
    "while i < n:\n",
    "    print('*'*i)\n",
    "    i += 2"
   ]
  },
  {
   "cell_type": "code",
   "execution_count": 25,
   "id": "1cfa353e",
   "metadata": {},
   "outputs": [
    {
     "name": "stdout",
     "output_type": "stream",
     "text": [
      "          *\n",
      "         ***\n",
      "        *****\n",
      "       *******\n",
      "      *********\n",
      "     ***********\n",
      "    *************\n",
      "   ***************\n",
      "  *****************\n",
      " *******************\n"
     ]
    }
   ],
   "source": [
    "i = 1\n",
    "b = n//2\n",
    "while i < n:\n",
    "    print(\" \"*b + '*'*i)\n",
    "    i += 2\n",
    "    b -= 1"
   ]
  },
  {
   "cell_type": "code",
   "execution_count": null,
   "id": "eb9b8674",
   "metadata": {},
   "outputs": [],
   "source": []
  }
 ],
 "metadata": {
  "kernelspec": {
   "display_name": "Python 3",
   "language": "python",
   "name": "python3"
  },
  "language_info": {
   "codemirror_mode": {
    "name": "ipython",
    "version": 3
   },
   "file_extension": ".py",
   "mimetype": "text/x-python",
   "name": "python",
   "nbconvert_exporter": "python",
   "pygments_lexer": "ipython3",
   "version": "3.8.8"
  }
 },
 "nbformat": 4,
 "nbformat_minor": 5
}
