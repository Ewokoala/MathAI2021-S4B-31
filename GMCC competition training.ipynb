{
 "cells": [
  {
   "cell_type": "markdown",
   "id": "f99dca67",
   "metadata": {},
   "source": [
    "# 七進制"
   ]
  },
  {
   "cell_type": "code",
   "execution_count": 44,
   "id": "13b1e8b2",
   "metadata": {},
   "outputs": [
    {
     "name": "stdout",
     "output_type": "stream",
     "text": [
      "['0', '1', '2', '3']\n",
      "['0', '0', '4', '5']\n",
      "[0, 2, 0, 1]\n"
     ]
    }
   ],
   "source": [
    "a = '123'\n",
    "b = '45'\n",
    "\n",
    "listA = []\n",
    "listB = []\n",
    "\n",
    "for i in range(0,4):\n",
    "    listA.append(a.zfill(4)[i])\n",
    "    listB.append(b.zfill(4)[i])\n",
    "    \n",
    "print(listA)\n",
    "print(listB)\n",
    "\n",
    "one = int(listA[-1]) + int(listB[-1])\n",
    "\n",
    "if one > 6 :\n",
    "    one = one - 7\n",
    "    add_one = 1\n",
    "else:\n",
    "    add_one  = 0\n",
    "    \n",
    "ten = int(listA[-2]) + int(listB[-2]) + add_one\n",
    "\n",
    "if ten > 6:\n",
    "    ten = ten - 7\n",
    "    add_ten = 1\n",
    "else:\n",
    "    add_ten = 0\n",
    "\n",
    "hunderd = int(listA[-3]) + int(listB[-3]) + add_ten\n",
    "\n",
    "if hunderd > 6:\n",
    "    hundred = hundred - 7\n",
    "    add_hunderd = 1\n",
    "else:\n",
    "    add_hunderd = 0\n",
    "    \n",
    "thousand = int(listA[-4]) + int(listB[-4]) + add_hunderd\n",
    "\n",
    "if thousand > 6:\n",
    "    thousand = thousand - 7\n",
    "    add_thousand = 1\n",
    "else:\n",
    "    add_thousand = 0\n",
    "\n",
    "listfinal = [thousand, hunderd, ten, one]\n",
    "\n",
    "print(listfinal)\n",
    "\n",
    "\n",
    "# what is the trash i wrote"
   ]
  },
  {
   "cell_type": "code",
   "execution_count": 96,
   "id": "80405caa",
   "metadata": {},
   "outputs": [
    {
     "name": "stdout",
     "output_type": "stream",
     "text": [
      "201\n"
     ]
    }
   ],
   "source": [
    "A = '123'\n",
    "B = '45'     #ans = 201\n",
    "A = A.zfill(4)\n",
    "B = B.zfill(4)\n",
    "list = []\n",
    "\n",
    "for i in range(-3, 0):\n",
    "    list.append(int(A[i])+ int(B[i]))\n",
    "\n",
    "if list[2] > 6 :\n",
    "    list[1] = list[1] + 1\n",
    "    list[2] = list[2] - 7\n",
    "\n",
    "if list[1] > 6 :\n",
    "    list[0] = list[0] + 1\n",
    "    list[1] = list[1] - 7 \n",
    "    \n",
    "        \n",
    "final = ''.join(map(str, list))\n",
    "\n",
    "print(final)"
   ]
  },
  {
   "cell_type": "markdown",
   "id": "9843e2d9",
   "metadata": {},
   "source": [
    "# what about floats"
   ]
  },
  {
   "cell_type": "code",
   "execution_count": 70,
   "id": "6387f2f8",
   "metadata": {},
   "outputs": [
    {
     "name": "stdout",
     "output_type": "stream",
     "text": [
      "7.2\n"
     ]
    }
   ],
   "source": [
    "A = 3\n",
    "B = 4.2\n",
    "\n",
    "a = A*10\n",
    "b = B*10\n",
    "print((a+b)/10)"
   ]
  },
  {
   "cell_type": "code",
   "execution_count": 82,
   "id": "bc193d11",
   "metadata": {},
   "outputs": [
    {
     "name": "stdout",
     "output_type": "stream",
     "text": [
      "0\n",
      "1\n",
      "2\n"
     ]
    }
   ],
   "source": [
    "for i in range (0, 3):\n",
    "    print(i)"
   ]
  },
  {
   "cell_type": "code",
   "execution_count": 84,
   "id": "570418c1",
   "metadata": {},
   "outputs": [
    {
     "name": "stdout",
     "output_type": "stream",
     "text": [
      "3\n",
      "2\n",
      "1\n"
     ]
    }
   ],
   "source": [
    "for i in range(3, 0, -1):\n",
    "    print(i)"
   ]
  },
  {
   "cell_type": "code",
   "execution_count": 159,
   "id": "c1722ddd",
   "metadata": {},
   "outputs": [
    {
     "name": "stdout",
     "output_type": "stream",
     "text": [
      "A?   3\n",
      "B?   4.2\n",
      "00001020\n",
      "10.2\n"
     ]
    }
   ],
   "source": [
    "A = str(int(float(input('A?   '))*10)).zfill(8)\n",
    "B = str(int(float(input('B?   '))*10)).zfill(8)\n",
    "list = []\n",
    "\n",
    "for i in range(-7, 1):\n",
    "    list.append(int(A[i])+ int(B[i]))\n",
    "    \n",
    "for i in range(7, -1, -1):\n",
    "    if list[i] > 6:\n",
    "        list[i-1] += 1\n",
    "        list[i] -= 7\n",
    "    \n",
    "final = ''.join(map(str, list))\n",
    "\n",
    "print(final)\n",
    "\n",
    "final = (int(final)/100)\n",
    "\n",
    "print(final)"
   ]
  },
  {
   "cell_type": "code",
   "execution_count": 140,
   "id": "7c87399e",
   "metadata": {},
   "outputs": [],
   "source": [
    "b = 1.2\n",
    "\n",
    "b = int(b)\n",
    "\n",
    "b?"
   ]
  },
  {
   "cell_type": "code",
   "execution_count": null,
   "id": "d3fd26fb",
   "metadata": {},
   "outputs": [],
   "source": []
  }
 ],
 "metadata": {
  "kernelspec": {
   "display_name": "Python 3 (ipykernel)",
   "language": "python",
   "name": "python3"
  },
  "language_info": {
   "codemirror_mode": {
    "name": "ipython",
    "version": 3
   },
   "file_extension": ".py",
   "mimetype": "text/x-python",
   "name": "python",
   "nbconvert_exporter": "python",
   "pygments_lexer": "ipython3",
   "version": "3.8.12"
  }
 },
 "nbformat": 4,
 "nbformat_minor": 5
}
