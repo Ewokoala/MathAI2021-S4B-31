{
 "cells": [
  {
   "cell_type": "code",
   "execution_count": 4,
   "id": "42eaa8c8",
   "metadata": {},
   "outputs": [],
   "source": [
    "import numpy as np\n",
    "def calculate_angle(a, b, c):\n",
    "    a = np.array(a)\n",
    "    b = np.array(b)\n",
    "    c = np.array(c)\n",
    "    \n",
    "    radians = np.arctan2(c[1] - b[1], c[0] - b[0]) - np.arctan2(a[1] - b[1], a[0] - b[0])\n",
    "    angle = np.abs(radians * 180/np.pi)\n",
    "    \n",
    "    if angle > 180:\n",
    "        angle = 360 - angle\n",
    "    \n",
    "    return round(angle,1)"
   ]
  },
  {
   "cell_type": "code",
   "execution_count": 6,
   "id": "57ea83d2",
   "metadata": {},
   "outputs": [
    {
     "ename": "ModuleNotFoundError",
     "evalue": "No module named 'mediapipe'",
     "output_type": "error",
     "traceback": [
      "\u001b[0;31m---------------------------------------------------------------------------\u001b[0m",
      "\u001b[0;31mModuleNotFoundError\u001b[0m                       Traceback (most recent call last)",
      "Input \u001b[0;32mIn [6]\u001b[0m, in \u001b[0;36m<cell line: 1>\u001b[0;34m()\u001b[0m\n\u001b[0;32m----> 1\u001b[0m \u001b[38;5;28;01mimport\u001b[39;00m \u001b[38;5;21;01mmediapipe\u001b[39;00m \u001b[38;5;28;01mas\u001b[39;00m \u001b[38;5;21;01mmp\u001b[39;00m\n\u001b[1;32m      2\u001b[0m \u001b[38;5;28;01mimport\u001b[39;00m \u001b[38;5;21;01mcv2\u001b[39;00m\n\u001b[1;32m      3\u001b[0m mp_drawing \u001b[38;5;241m=\u001b[39m mp\u001b[38;5;241m.\u001b[39msolutions\u001b[38;5;241m.\u001b[39mdrawing_utils\n",
      "\u001b[0;31mModuleNotFoundError\u001b[0m: No module named 'mediapipe'"
     ]
    }
   ],
   "source": [
    "import mediapipe as mp\n",
    "import cv2\n",
    "mp_drawing = mp.solutions.drawing_utils\n",
    "mp_pose = mp.solutions.pose\n",
    "\n",
    "stage = ''\n",
    "counter = 0\n",
    "\n",
    "\n",
    "cap = cv2.VideoCapture(0)\n",
    "cv2.namedWindow(\"Mediapipe\", cv2.WINDOW_AUTOSIZE)\n",
    "\n",
    "with mp_pose.Pose(min_detection_confidence = 0.5, min_tracking_confidence = 0.5) as pose:\n",
    "    while cap.isOpened():\n",
    "        ret, frame = cap.read()\n",
    "        if cv2.waitKey(10) == ord(\"q\"):\n",
    "            break\n",
    "        frame = cv2.flip(frame, 1)\n",
    "        image = cv2.cvtColor(frame, cv2.COLOR_BGR2RGB)\n",
    "        \n",
    "        results = pose.process(image)\n",
    "        \n",
    "        try:\n",
    "            landmarks = results.pose_landmarks.landmark\n",
    "            # print(landmarks)\n",
    "            showlder = [landmarks[12].x, landmarks[12].y]\n",
    "            elbow = [landmarks[14].x, landmarks[14].y]\n",
    "            wrist = [landmarks[16].x, landmarks[16].y]\n",
    "            \n",
    "            angle = calculate_angle(showlder, elbow, wrist) # calculate the angle\n",
    "            # print(angle)\n",
    "            cv2.putText(frame, str(angle), tuple(np.multiply(elbow, [640, 480]).astype(int)),\n",
    "                                           cv2.FONT_HERSHEY_COMPLEX, 1, (255, 255, 255), 2, cv2.LINE_AA)\n",
    "            \n",
    "            \n",
    "            if angle > 150:\n",
    "                stage = \"down\"\n",
    "            elif angle < 45 and stage == \"down\":\n",
    "                stage = \"up\"\n",
    "                counter += 1\n",
    "                print(counter)        \n",
    "            \n",
    "            \n",
    "            \n",
    "        except Exception as e:\n",
    "            print(e)\n",
    "        \n",
    "        \n",
    "        cv2.putText(frame, str(counter), (10,10), (100, 100, 100), -1)\n",
    "        \n",
    "        mp_drawing.draw_landmarks(frame, results.pose_landmarks, mp_holistic.POSE_CONNECTIONS,\n",
    "                                 mp_drawing.DrawingSpec(color = (245, 117, 234), thickness = 2, circle_radius = 2),\n",
    "                                 mp_drawing.DrawingSpec(color = (23, 23, 100), thickness= 2, circle_radius = 4))\n",
    "        mp_drawing.draw_landmarks(frame, results.right_hand_landmarks, mp.holistic.HAND_CONNECTIONS,\n",
    "                                 mp_drawing.DrawingSpec(color = (245, 117, 234), thickness = 2, circle_radius = 2),\n",
    "                                 mp_drawing.DrawingSpec(color = (23, 23, 100), thickness= 2, circle_radius = 4))\n",
    "        mp_drawing.draw_landmarks(frame, results.left_hand_landmarks, mp_holistic.HAND_CONNECTIONS,\n",
    "                                 mp_drawing.DrawingSpec(color = (245, 117, 234), thickness = 2, circle_radius = 2),\n",
    "                                 mp_drawing.DrawingSpec(color = (23, 23, 100), thickness= 2, circle_radius = 4))\n",
    "        mp_drawing.draw_landmarks(frame, results.face_landmarks, mp_holistic.FACEMESH_TESSELATION,\n",
    "                                 mp_drawing.DrawingSpec(color = (245, 117, 234), thickness = 2, circle_radius = 2),\n",
    "                                 mp_drawing.DrawingSpec(color = (23, 23, 100), thickness= 2, circle_radius = 4))\n",
    "        \n",
    "        cv2.imshow(\"Mediapipe\", frame)\n",
    "\n",
    "    cap.release()\n",
    "    cv2.destroyAllWindows()"
   ]
  },
  {
   "cell_type": "code",
   "execution_count": 3,
   "id": "001516e4",
   "metadata": {},
   "outputs": [
    {
     "name": "stdout",
     "output_type": "stream",
     "text": [
      "\u001b[31mERROR: Could not find a version that satisfies the requirement mediapipe (from versions: none)\u001b[0m\u001b[31m\r\n",
      "\u001b[0m\u001b[31mERROR: No matching distribution found for mediapipe\u001b[0m\u001b[31m\r\n",
      "\u001b[0m"
     ]
    }
   ],
   "source": [
    "!pip install mediapipe opencv-python pandas scikit-learn"
   ]
  },
  {
   "cell_type": "code",
   "execution_count": 10,
   "id": "500da3dc",
   "metadata": {},
   "outputs": [],
   "source": [
    "#import mediapipe as mp\n",
    "import cv2\n",
    "import csv\n",
    "import os\n",
    "import numpy as np"
   ]
  },
  {
   "cell_type": "code",
   "execution_count": 9,
   "id": "212955c8",
   "metadata": {},
   "outputs": [
    {
     "ename": "NameError",
     "evalue": "name 'results' is not defined",
     "output_type": "error",
     "traceback": [
      "\u001b[0;31m---------------------------------------------------------------------------\u001b[0m",
      "\u001b[0;31mNameError\u001b[0m                                 Traceback (most recent call last)",
      "Input \u001b[0;32mIn [9]\u001b[0m, in \u001b[0;36m<cell line: 1>\u001b[0;34m()\u001b[0m\n\u001b[0;32m----> 1\u001b[0m num_coords \u001b[38;5;241m=\u001b[39m \u001b[38;5;28mlen\u001b[39m(\u001b[43mresults\u001b[49m\u001b[38;5;241m.\u001b[39mface_landmarks\u001b[38;5;241m.\u001b[39mlandmark) \u001b[38;5;241m+\u001b[39m \u001b[38;5;28mlen\u001b[39m(resilts\u001b[38;5;241m.\u001b[39mpose_landmarks\u001b[38;5;241m.\u001b[39mlandmark)\n\u001b[1;32m      2\u001b[0m num_coords\n",
      "\u001b[0;31mNameError\u001b[0m: name 'results' is not defined"
     ]
    }
   ],
   "source": [
    "num_coords = len(results.face_landmarks.landmark) + len(resilts.pose_landmarks.landmark)\n",
    "num_coords"
   ]
  },
  {
   "cell_type": "code",
   "execution_count": null,
   "id": "5c760202",
   "metadata": {},
   "outputs": [],
   "source": [
    "landmarks = [\"class\"]\n",
    "for val in range(1, num_coords + 1):\n",
    "    landmarks += [f'x{val}', f'y{val}', f'z{val}', f'v{val}']"
   ]
  },
  {
   "cell_type": "code",
   "execution_count": null,
   "id": "4c7db24b",
   "metadata": {},
   "outputs": [],
   "source": [
    "with open('coords.csv', mode = 'w', newline = '') as f:   # a -- append; w -- write; r -- read\n",
    "    csv_writer = csv.writer(f, delimiter = ',', quotechar = '\"\"', quoting = csv.QUOTE_MINIMAL)\n",
    "    csv_writer.writerow(landmarks)   # writerow -- write in row"
   ]
  },
  {
   "cell_type": "code",
   "execution_count": null,
   "id": "82bad7a8",
   "metadata": {},
   "outputs": [],
   "source": [
    "try:\n",
    "    pose = results.pose_landmarks.landmark\n",
    "    pose_row = list(np.array([[landmark.x, landmark.y, landmark.z, landmark.visibility]f for landmark in pose]).flatten())\n",
    "    \n",
    "    face = results.face_landmarks.landmark\n",
    "    face_row = list(np.array([[landmark.x, landmark.y, landmark.z, landmark.visibility]f for landmark in pose]).flatten())\n",
    "    \n",
    "    row = pose_row + face_row\n",
    "    row.insert(0, class_name)\n",
    "    with open('coords.csv', mode = 'a', newline = '') as f:   # a -- append; w -- write; r -- read\n",
    "        csv_writer = csv.writer(f, delimiter = ',', quotechar = '\"\"', quoting = csv.QUOTE_MINIMAL)\n",
    "        csv_writer.writerow(row)   # writerow -- write in row\n",
    "        \n",
    "except:\n",
    "    pass\n",
    "        \n",
    "        \n",
    "            \n",
    "        \n",
    "        "
   ]
  },
  {
   "cell_type": "code",
   "execution_count": null,
   "id": "5ee85ada",
   "metadata": {},
   "outputs": [],
   "source": [
    "import pandas as pd\n",
    "from sklearn.model_selection import train_test_split"
   ]
  },
  {
   "cell_type": "code",
   "execution_count": null,
   "id": "dad41776",
   "metadata": {},
   "outputs": [],
   "source": [
    "df = pd.read_csv('coords.csv')\n",
    "\n",
    "\n",
    "# df.head()\n",
    "\n",
    "# df.tail()"
   ]
  },
  {
   "cell_type": "code",
   "execution_count": null,
   "id": "224bea9f",
   "metadata": {},
   "outputs": [],
   "source": [
    "X = df.drop('class', axis = 1)\n",
    "y = df['class']"
   ]
  },
  {
   "cell_type": "code",
   "execution_count": null,
   "id": "d149d490",
   "metadata": {},
   "outputs": [],
   "source": [
    "X_train, X_test, y_train, y_test = train_test_split(X, y, test_size = 0.3, random_state = 1234)"
   ]
  },
  {
   "cell_type": "code",
   "execution_count": null,
   "id": "ddbd768e",
   "metadata": {},
   "outputs": [],
   "source": [
    "print(len(X_train))"
   ]
  },
  {
   "cell_type": "code",
   "execution_count": 2,
   "id": "1dd834fc",
   "metadata": {},
   "outputs": [
    {
     "ename": "ModuleNotFoundError",
     "evalue": "No module named 'sklearn'",
     "output_type": "error",
     "traceback": [
      "\u001b[0;31m---------------------------------------------------------------------------\u001b[0m",
      "\u001b[0;31mModuleNotFoundError\u001b[0m                       Traceback (most recent call last)",
      "Input \u001b[0;32mIn [2]\u001b[0m, in \u001b[0;36m<cell line: 1>\u001b[0;34m()\u001b[0m\n\u001b[0;32m----> 1\u001b[0m \u001b[38;5;28;01mfrom\u001b[39;00m \u001b[38;5;21;01msklearn\u001b[39;00m\u001b[38;5;21;01m.\u001b[39;00m\u001b[38;5;21;01mpipeline\u001b[39;00m \u001b[38;5;28;01mimport\u001b[39;00m make_pipeline\n",
      "\u001b[0;31mModuleNotFoundError\u001b[0m: No module named 'sklearn'"
     ]
    }
   ],
   "source": [
    "from sklearn.pipeline import make_pipeline\n",
    "from sklearn.preprocessing import StandardScaler\n",
    "from sklearn.linear_model import LogisticRegression"
   ]
  },
  {
   "cell_type": "code",
   "execution_count": null,
   "id": "1dc093d9",
   "metadata": {},
   "outputs": [],
   "source": [
    "pipelines = {\n",
    "    'lr' : make_pipeline(StandardScaler(), LogisticRegression())\n",
    "}"
   ]
  },
  {
   "cell_type": "code",
   "execution_count": null,
   "id": "86b286a1",
   "metadata": {},
   "outputs": [],
   "source": [
    "fit_models = {}\n",
    "for algo, pipeline in pipelines.items():\n",
    "    model = pipeline.fit(X_train.values, y_train.values)\n",
    "    fit_models[algo] = model"
   ]
  },
  {
   "cell_type": "code",
   "execution_count": null,
   "id": "fc2243c4",
   "metadata": {},
   "outputs": [],
   "source": [
    "fit_models"
   ]
  },
  {
   "cell_type": "code",
   "execution_count": null,
   "id": "9c96cfdb",
   "metadata": {},
   "outputs": [],
   "source": [
    "fit_models['lr'].predit(X_test.values)"
   ]
  },
  {
   "cell_type": "code",
   "execution_count": null,
   "id": "9b4faec0",
   "metadata": {},
   "outputs": [],
   "source": [
    "from sklearn.metrics import accuracy_score\n",
    "import pickle"
   ]
  },
  {
   "cell_type": "code",
   "execution_count": null,
   "id": "37141870",
   "metadata": {},
   "outputs": [],
   "source": [
    "for algo, model in fit_models.items():\n",
    "    yhat = model.predict(X_test.values)\n",
    "    print(algo, accuracy_score(y_test.values, yhat))"
   ]
  },
  {
   "cell_type": "code",
   "execution_count": null,
   "id": "e9071aad",
   "metadata": {},
   "outputs": [],
   "source": [
    "import pickle\n",
    "with open('body_language.pkl', 'wb') as f:\n",
    "    pickle.dump(fit_models['lr'], f)                     # save trained model"
   ]
  },
  {
   "cell_type": "code",
   "execution_count": null,
   "id": "ae98b5cb",
   "metadata": {},
   "outputs": [],
   "source": [
    "import pickle\n",
    "with open('body_language.pkl', 'wb') as f:               # load saved model\n",
    "    model = pickle.load(f)"
   ]
  }
 ],
 "metadata": {
  "kernelspec": {
   "display_name": "Python 3 (ipykernel)",
   "language": "python",
   "name": "python3"
  },
  "language_info": {
   "codemirror_mode": {
    "name": "ipython",
    "version": 3
   },
   "file_extension": ".py",
   "mimetype": "text/x-python",
   "name": "python",
   "nbconvert_exporter": "python",
   "pygments_lexer": "ipython3",
   "version": "3.9.12"
  }
 },
 "nbformat": 4,
 "nbformat_minor": 5
}
