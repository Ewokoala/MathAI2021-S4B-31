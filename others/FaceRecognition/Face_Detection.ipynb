{
 "cells": [
  {
   "cell_type": "code",
   "execution_count": 1,
   "id": "d2ae13ba",
   "metadata": {},
   "outputs": [],
   "source": [
    "import cv2"
   ]
  },
  {
   "cell_type": "markdown",
   "id": "38996e4a",
   "metadata": {},
   "source": [
    "Cap a photo"
   ]
  },
  {
   "cell_type": "code",
   "execution_count": 1,
   "id": "1f4fb650",
   "metadata": {},
   "outputs": [],
   "source": [
    "import cv2\n",
    "#import time\n",
    "\n",
    "ESC = 27\n",
    "SPACE = 32\n",
    "cap = cv2.VideoCapture(0)\n",
    "ratio = cap.get(cv2.CAP_PROP_FRAME_WIDTH) / cap.get(cv2.CAP_PROP_FRAME_HEIGHT)\n",
    "WIDTH = 600\n",
    "HEIGHT = int(WIDTH/ratio)\n",
    "font = cv2.FONT_HERSHEY_SIMPLEX\n",
    "cv2.startWindowThread()\n",
    "cv2.namedWindow('window', cv2.WINDOW_NORMAL)\n",
    "a = 39  #single use\n",
    "\n",
    "ret = 1\n",
    "while ret:\n",
    "    ret, frame = cap.read()\n",
    "    frame = cv2.resize(frame, (WIDTH, HEIGHT))\n",
    "    frame = cv2.flip(frame, 1)  \n",
    "    cv2.imshow('window', frame)\n",
    "    \n",
    "    if cv2.waitKey(1) == SPACE:   # press space to take pic\n",
    "        \n",
    "        # a countdown\n",
    "        while a >= 0:    \n",
    "            ret, frame = cap.read()\n",
    "            frame = cv2.resize(frame, (WIDTH, HEIGHT))\n",
    "            frame = cv2.flip(frame, 1)  \n",
    "            a -= 1      \n",
    "            \n",
    "            # at 3, 2, 1\n",
    "            if a%10 == 0 and a != 0:\n",
    "                cv2.putText(frame, str(a//10), (50, 50), font, 1, (255, 255, 255), 2, cv2.LINE_AA )\n",
    "            cv2.imshow('window', frame)\n",
    "            cv2.waitKey(100)\n",
    "            \n",
    "            # at 0\n",
    "            if a == 0:\n",
    "                cv2.putText(frame, 'smile :D', (50, 50), font, 1, (255, 255, 255), 2, cv2.LINE_AA )\n",
    "                cv2.imwrite('image.jpeg', frame)\n",
    "\n",
    "    if cv2.waitKey(1) == ESC:     # press esc to exit\n",
    "        break\n",
    "\n",
    "cv2.destroyAllWindows()\n",
    "cv2.waitKey(1)\n",
    "cap.release()"
   ]
  },
  {
   "cell_type": "markdown",
   "id": "3baa666c",
   "metadata": {},
   "source": [
    "Read the .jpeg and check it"
   ]
  },
  {
   "cell_type": "code",
   "execution_count": 10,
   "id": "37e037eb",
   "metadata": {},
   "outputs": [
    {
     "data": {
      "text/plain": [
       "-1"
      ]
     },
     "execution_count": 10,
     "metadata": {},
     "output_type": "execute_result"
    }
   ],
   "source": [
    "image = cv2.imread('image.jpeg')\n",
    "\n",
    "cv2.imshow('image', image)\n",
    "cv2.waitKey(0)\n",
    "cv2.destroyAllWindows()\n",
    "cv2.waitKey(1)"
   ]
  },
  {
   "cell_type": "markdown",
   "id": "eeb3e086",
   "metadata": {},
   "source": [
    "Change it to GRAY"
   ]
  },
  {
   "cell_type": "code",
   "execution_count": 11,
   "id": "3c7b3425",
   "metadata": {},
   "outputs": [
    {
     "data": {
      "text/plain": [
       "-1"
      ]
     },
     "execution_count": 11,
     "metadata": {},
     "output_type": "execute_result"
    }
   ],
   "source": [
    "gray = cv2.cvtColor(image, cv2.COLOR_BGR2GRAY)\n",
    "\n",
    "cv2.imshow('gray', gray)\n",
    "cv2.waitKey(0)\n",
    "cv2.destroyAllWindows()\n",
    "cv2.waitKey(1)"
   ]
  },
  {
   "cell_type": "code",
   "execution_count": null,
   "id": "444236ac",
   "metadata": {},
   "outputs": [],
   "source": [
    "gray"
   ]
  },
  {
   "cell_type": "markdown",
   "id": "1f07f7ee",
   "metadata": {},
   "source": [
    "Load the haarcascade\n",
    "\n",
    "| haarcascades | explanation |\n",
    "| :-: | :-: |\n",
    "| haarcascade_frontalface_default.xml | detection face  |\n",
    "| haarcascade_frontalface_alt2.xml | good for detection front |\n",
    "| haarcascade_profileface.xml | good for detection profile |\n",
    "| haarcascade_eye.xml | detection eyes |\n",
    "\n"
   ]
  },
  {
   "cell_type": "code",
   "execution_count": 12,
   "id": "84f877a1",
   "metadata": {},
   "outputs": [],
   "source": [
    "face_cascade = cv2.CascadeClassifier(cv2.data.haarcascades + 'haarcascade_frontalface_alt2.xml')"
   ]
  },
  {
   "cell_type": "code",
   "execution_count": 13,
   "id": "b5ada142",
   "metadata": {},
   "outputs": [],
   "source": [
    "face = face_cascade.detectMultiScale(gray, 1.05, 5)      # 1.1 size of checkbox   , 3 recheck times"
   ]
  },
  {
   "cell_type": "code",
   "execution_count": null,
   "id": "8f9fe099",
   "metadata": {},
   "outputs": [],
   "source": [
    "face   # top left x, y , width, height"
   ]
  },
  {
   "cell_type": "markdown",
   "id": "25444d1b",
   "metadata": {},
   "source": [
    "Draw the rectangle around the face that had been detected"
   ]
  },
  {
   "cell_type": "code",
   "execution_count": 17,
   "id": "ef3804a3",
   "metadata": {},
   "outputs": [
    {
     "data": {
      "text/plain": [
       "-1"
      ]
     },
     "execution_count": 17,
     "metadata": {},
     "output_type": "execute_result"
    }
   ],
   "source": [
    "for (x, y, w, h) in face:\n",
    "    face_detection = cv2.rectangle(image, (x, y), (x+w, y+h), (0, 0, 255), 2)\n",
    "\n",
    "cv2.imshow('you', face_detection)\n",
    "cv2.waitKey(0)\n",
    "cv2.destroyAllWindows()\n",
    "cv2.waitKey(1)"
   ]
  },
  {
   "cell_type": "markdown",
   "id": "1ac9f7aa",
   "metadata": {},
   "source": [
    "Do the same thing to detect the eyes"
   ]
  },
  {
   "cell_type": "code",
   "execution_count": 18,
   "id": "fe3bb442",
   "metadata": {},
   "outputs": [],
   "source": [
    "eye_cascade = cv2.CascadeClassifier(cv2.data.haarcascades + 'haarcascade_eye.xml')"
   ]
  },
  {
   "cell_type": "code",
   "execution_count": 20,
   "id": "840a2b79",
   "metadata": {},
   "outputs": [
    {
     "data": {
      "text/plain": [
       "-1"
      ]
     },
     "execution_count": 20,
     "metadata": {},
     "output_type": "execute_result"
    }
   ],
   "source": [
    "for (x, y, w, h) in face:\n",
    "    face_rect = gray[y:y+h, x:x+w]  # y first\n",
    "    eyes = eye_cascade.detectMultiScale(face_rect, 1.3, 10)\n",
    "    for (ex, ey, ew, eh) in eyes:\n",
    "        centre = (x + ex + int(ew/2), y+ey+int(eh/2))\n",
    "        r = int(min(ew, eh)/2)\n",
    "        #r = int((ew, eh)/4)\n",
    "        cv2.circle(image, centre, r, (255, 255, 0), 2)\n",
    "        \n",
    "cv2.imshow('me', image)\n",
    "cv2.waitKey(0)\n",
    "cv2.destroyAllWindows()\n",
    "cv2.waitKey(1)"
   ]
  },
  {
   "cell_type": "code",
   "execution_count": null,
   "id": "1eb08b6b",
   "metadata": {},
   "outputs": [],
   "source": []
  }
 ],
 "metadata": {
  "kernelspec": {
   "display_name": "Python 3",
   "language": "python",
   "name": "python3"
  },
  "language_info": {
   "codemirror_mode": {
    "name": "ipython",
    "version": 3
   },
   "file_extension": ".py",
   "mimetype": "text/x-python",
   "name": "python",
   "nbconvert_exporter": "python",
   "pygments_lexer": "ipython3",
   "version": "3.8.8"
  }
 },
 "nbformat": 4,
 "nbformat_minor": 5
}
