{
 "cells": [
  {
   "cell_type": "code",
   "execution_count": null,
   "id": "b6075f0d",
   "metadata": {},
   "outputs": [],
   "source": [
    "import cv2\n",
    "import time\n",
    "\n",
    "ESC = 27\n",
    "SPACE = 32\n",
    "cap = cv2.VideoCapture(0)\n",
    "ratio = cap.get(cv2.CAP_PROP_FRAME_WIDTH) / cap.get(cv2.CAP_PROP_FRAME_HEIGHT)\n",
    "WIDTH = 600\n",
    "HEIGHT = int(WIDTH/ratio)\n",
    "font = cv2.FONT_HERSHEY_SIMPLEX\n",
    "cv2.startWindowThread()\n",
    "cv2.namedWindow('window', cv2.WINDOW_NORMAL)\n",
    "a = 39  #single use\n",
    "\n",
    "ret = 1\n",
    "while ret:\n",
    "    ret, frame = cap.read()\n",
    "    frame = cv2.resize(frame, (WIDTH, HEIGHT))\n",
    "    frame = cv2.flip(frame, 1)  \n",
    "    cv2.imshow('window', frame)\n",
    "    \n",
    "    if cv2.waitKey(1) == SPACE:   # press space to take pic\n",
    "        \n",
    "        # a countdown\n",
    "        while a >= 0:    \n",
    "            ret, frame = cap.read()\n",
    "            frame = cv2.resize(frame, (WIDTH, HEIGHT))\n",
    "            frame = cv2.flip(frame, 1)  \n",
    "            a -= 1      \n",
    "            \n",
    "            # at 3, 2, 1\n",
    "            if a%10 == 0 and a != 0:\n",
    "                cv2.putText(frame, str(a//10), (50, 50), font, 1, (255, 255, 255), 2, cv2.LINE_AA )\n",
    "            cv2.imshow('window', frame)\n",
    "            cv2.waitKey(125)\n",
    "            \n",
    "            # at 0\n",
    "            if a == 0:\n",
    "                cv2.putText(frame, 'smile :D', (50, 50), font, 1, (255, 255, 255), 2, cv2.LINE_AA )\n",
    "                cv2.imwrite('image.jpeg', frame)\n",
    "        else:\n",
    "            ret, frame = cap.read()\n",
    "            frame = cv2.resize(frame, (WIDTH, HEIGHT))\n",
    "            frame = cv2.flip(frame, 1)  \n",
    "            cv2.imshow('window', frame)\n",
    "    \n",
    "    if cv2.waitKey(1) == ESC:     # press esc to exit\n",
    "        break\n",
    "\n",
    "cv2.destroyAllWindows()\n",
    "cv2.waitKey(1)\n",
    "cap.release()"
   ]
  },
  {
   "cell_type": "code",
   "execution_count": null,
   "id": "4a2a206f",
   "metadata": {},
   "outputs": [],
   "source": [
    "b = 0\n",
    "\n",
    "if a == 0:\n",
    "    while b <= 10:\n",
    "        for i in range(1,11):\n",
    "        cv2.imwrite('image' + str(i) + '.jpeg', frame)\n",
    "        \n",
    "        "
   ]
  }
 ],
 "metadata": {
  "kernelspec": {
   "display_name": "Python 3",
   "language": "python",
   "name": "python3"
  },
  "language_info": {
   "codemirror_mode": {
    "name": "ipython",
    "version": 3
   },
   "file_extension": ".py",
   "mimetype": "text/x-python",
   "name": "python",
   "nbconvert_exporter": "python",
   "pygments_lexer": "ipython3",
   "version": "3.8.8"
  }
 },
 "nbformat": 4,
 "nbformat_minor": 5
}
