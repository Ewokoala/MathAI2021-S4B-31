{
 "cells": [
  {
   "cell_type": "code",
   "execution_count": 4,
   "id": "83408afe",
   "metadata": {},
   "outputs": [],
   "source": [
    "import cv2\n",
    "ESC = 27 #ASCII code of ESC is 27\n",
    "cap = cv2.VideoCapture(0)#0 is the first camera of your computer\n",
    "ratio = cap.get(cv2.CAP_PROP_FRAME_WIDTH) / cap.get(cv2.CAP_PROP_FRAME_HEIGHT)# Get the ratio of camera\n",
    "WIDTH = 600 # Change the width of frame\n",
    "HEIGHT = int(WIDTH/ratio) # Change the height of frame\n",
    "cv2.namedWindow('test', cv2.WINDOW_NORMAL)\n",
    "face_cascade = cv2.CascadeClassifier(cv2.data.haarcascades + 'haarcascade_frontalface_alt2.xml')\n",
    "eye_cascade = cv2.CascadeClassifier(cv2.data.haarcascades + 'haarcascade_eye.xml')\n",
    "\n",
    "ret = True\n",
    "while ret:\n",
    "    ret, frame = cap.read()\n",
    "    frame = cv2.resize(frame, (WIDTH, HEIGHT))\n",
    "    frame = cv2.flip(frame, 1)    \n",
    "    gray = cv2.cvtColor(frame, cv2.COLOR_BGR2GRAY)\n",
    "    faces = face_cascade.detectMultiScale(gray, 1.3, 3)\n",
    "    \n",
    "    #for (x, y, w, h) in face:\n",
    "        #face_rect = gray[y:y+h, x:x+w]  # y first\n",
    "        #eyes = eye_cascade.detectMultiScale(face_rect, 1.3, 8)\n",
    "        #for (ex, ey, ew, eh) in eyes:\n",
    "           # centre = (x + ex + int(ew/2), y+ey+int(eh/2))\n",
    "            #r = int(min(ew, eh)/2)\n",
    "            ##r = int((ew, eh)/4)\n",
    "            #cv2.circle(frame, centre, r, (255, 255, 0), 2)\n",
    "            \n",
    "            \n",
    "    for (x, y, w, h) in faces:\n",
    "        #face_detection = cv2.rectangle(frame, (x, y), (x+w, y+h), (0, 0, 255), 2)\n",
    "        cv2.rectangle(frame, (x, y), (x+w, y+h), (0, 0, 255), 2)\n",
    "            \n",
    "    cv2.imshow('test', frame)\n",
    "      \n",
    "    if cv2.waitKey(10) == ESC:\n",
    "        break\n",
    "        \n",
    "cv2.destroyAllWindows()\n",
    "cv2.waitKey(1)   \n",
    "cap.release()"
   ]
  },
  {
   "cell_type": "code",
   "execution_count": null,
   "id": "ac102fd2",
   "metadata": {},
   "outputs": [],
   "source": []
  }
 ],
 "metadata": {
  "kernelspec": {
   "display_name": "Python 3",
   "language": "python",
   "name": "python3"
  },
  "language_info": {
   "codemirror_mode": {
    "name": "ipython",
    "version": 3
   },
   "file_extension": ".py",
   "mimetype": "text/x-python",
   "name": "python",
   "nbconvert_exporter": "python",
   "pygments_lexer": "ipython3",
   "version": "3.8.8"
  }
 },
 "nbformat": 4,
 "nbformat_minor": 5
}
