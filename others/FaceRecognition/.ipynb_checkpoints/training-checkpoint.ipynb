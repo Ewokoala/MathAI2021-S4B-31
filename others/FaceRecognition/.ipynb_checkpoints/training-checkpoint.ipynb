{
 "cells": [
  {
   "cell_type": "code",
   "execution_count": 6,
   "id": "5cb2f388",
   "metadata": {},
   "outputs": [],
   "source": [
    "import cv2\n",
    "import numpy as np\n",
    "import os"
   ]
  },
  {
   "cell_type": "code",
   "execution_count": 2,
   "id": "e05cd17f",
   "metadata": {
    "scrolled": true
   },
   "outputs": [
    {
     "name": "stdout",
     "output_type": "stream",
     "text": [
      "47.jpeg\n",
      "10.jpeg\n",
      "51.jpeg\n",
      "92.jpeg\n",
      "0.jpeg\n",
      "84.jpeg\n",
      "26.jpeg\n",
      "71.jpeg\n",
      "88.jpeg\n",
      "67.jpeg\n",
      "30.jpeg\n",
      "31.jpeg\n",
      "89.jpeg\n",
      "66.jpeg\n",
      "70.jpeg\n",
      "27.jpeg\n",
      "85.jpeg\n",
      "1.jpeg\n",
      "93.jpeg\n",
      "50.jpeg\n",
      "11.jpeg\n",
      "46.jpeg\n",
      "20.jpeg\n",
      "98.jpeg\n",
      "77.jpeg\n",
      "61.jpeg\n",
      "36.jpeg\n",
      "41.jpeg\n",
      "16.jpeg\n",
      "57.jpeg\n",
      "94.jpeg\n",
      "6.jpeg\n",
      "82.jpeg\n",
      "83.jpeg\n",
      "7.jpeg\n",
      "95.jpeg\n",
      "56.jpeg\n",
      "17.jpeg\n",
      "40.jpeg\n",
      "37.jpeg\n",
      "60.jpeg\n",
      "99.jpeg\n",
      "76.jpeg\n",
      "21.jpeg\n",
      "34.jpeg\n",
      "63.jpeg\n",
      "8.jpeg\n",
      "75.jpeg\n",
      "22.jpeg\n",
      "59.jpeg\n",
      "18.jpeg\n",
      "38.jpeg\n",
      "80.jpeg\n",
      "4.jpeg\n",
      "79.jpeg\n",
      "96.jpeg\n",
      "55.jpeg\n",
      "14.jpeg\n",
      "43.jpeg\n",
      "42.jpeg\n",
      "15.jpeg\n",
      "54.jpeg\n",
      "78.jpeg\n",
      "97.jpeg\n",
      "5.jpeg\n",
      "81.jpeg\n",
      "39.jpeg\n",
      "19.jpeg\n",
      "58.jpeg\n",
      "23.jpeg\n",
      "74.jpeg\n",
      "62.jpeg\n",
      "9.jpeg\n",
      "35.jpeg\n",
      "69.jpeg\n",
      ".ipynb_checkpoints<DIR>\n",
      "86.jpeg\n",
      "2.jpeg\n",
      "90.jpeg\n",
      "28.jpeg\n",
      "53.jpeg\n",
      "12.jpeg\n",
      "45.jpeg\n",
      "32.jpeg\n",
      "65.jpeg\n",
      "73.jpeg\n",
      "24.jpeg\n",
      "49.jpeg\n",
      "48.jpeg\n",
      "25.jpeg\n",
      "72.jpeg\n",
      "64.jpeg\n",
      "33.jpeg\n",
      "44.jpeg\n",
      "13.jpeg\n",
      "52.jpeg\n",
      "29.jpeg\n",
      "91.jpeg\n",
      "68.jpeg\n",
      "3.jpeg\n",
      "87.jpeg\n"
     ]
    }
   ],
   "source": [
    "path = 'images/p0'\n",
    "NumbersofImage = 0\n",
    "for file in os.listdir(path):\n",
    "    fullname = os.path.join(path, file)\n",
    "    if os.path.isdir(fullname):\n",
    "        print(f\"{file}<DIR>\")\n",
    "    elif file.endswith(\".jpeg\"):\n",
    "        print(f'{file}')\n",
    "        NumbersofImage += 1"
   ]
  },
  {
   "cell_type": "code",
   "execution_count": 3,
   "id": "32b3c330",
   "metadata": {},
   "outputs": [
    {
     "data": {
      "text/plain": [
       "100"
      ]
     },
     "execution_count": 3,
     "metadata": {},
     "output_type": "execute_result"
    }
   ],
   "source": [
    "NumbersofImage"
   ]
  },
  {
   "cell_type": "code",
   "execution_count": 4,
   "id": "db51caaf",
   "metadata": {},
   "outputs": [],
   "source": [
    "images = []\n",
    "labels = []   #  append(0)   means the people in images is 0\n",
    "\n",
    "for index in range(NumbersofImage):\n",
    "    filename = f'images/p0/{index}.jpeg'\n",
    "    img = cv2.imread(filename, cv2.COLOR_BGR2GRAY)\n",
    "    # if index < 3:\n",
    "    #     cv2.imshow('check', img)\n",
    "    #     cv2.waitKey(0)\n",
    "    #     cv2.destroyWindow('check')\n",
    "    #     cv2.waitKey(1)\n",
    "    images.append(img)\n",
    "    labels.append(0)"
   ]
  },
  {
   "cell_type": "code",
   "execution_count": 8,
   "id": "ce2f3e48",
   "metadata": {},
   "outputs": [
    {
     "name": "stdout",
     "output_type": "stream",
     "text": [
      "training......\n"
     ]
    },
    {
     "ename": "AttributeError",
     "evalue": "module 'cv2' has no attribute 'face'",
     "output_type": "error",
     "traceback": [
      "\u001b[0;31m---------------------------------------------------------------------------\u001b[0m",
      "\u001b[0;31mAttributeError\u001b[0m                            Traceback (most recent call last)",
      "\u001b[0;32m/var/folders/zy/1n_pz5vs3nq3j9xcl3jx553r0000gn/T/ipykernel_24945/3751426576.py\u001b[0m in \u001b[0;36m<module>\u001b[0;34m\u001b[0m\n\u001b[1;32m      1\u001b[0m \u001b[0mprint\u001b[0m\u001b[0;34m(\u001b[0m\u001b[0;34m'training......'\u001b[0m\u001b[0;34m)\u001b[0m\u001b[0;34m\u001b[0m\u001b[0;34m\u001b[0m\u001b[0m\n\u001b[0;32m----> 2\u001b[0;31m \u001b[0mmodel\u001b[0m \u001b[0;34m=\u001b[0m \u001b[0mcv2\u001b[0m\u001b[0;34m.\u001b[0m\u001b[0mface\u001b[0m\u001b[0;34m.\u001b[0m\u001b[0mLBPHFaceRecognizer_create\u001b[0m\u001b[0;34m(\u001b[0m\u001b[0;34m)\u001b[0m\u001b[0;34m\u001b[0m\u001b[0;34m\u001b[0m\u001b[0m\n\u001b[0m\u001b[1;32m      3\u001b[0m \u001b[0mmodel\u001b[0m\u001b[0;34m.\u001b[0m\u001b[0mtrain\u001b[0m\u001b[0;34m(\u001b[0m\u001b[0mnp\u001b[0m\u001b[0;34m.\u001b[0m\u001b[0masarray\u001b[0m\u001b[0;34m(\u001b[0m\u001b[0mimages\u001b[0m\u001b[0;34m)\u001b[0m\u001b[0;34m,\u001b[0m \u001b[0mnp\u001b[0m\u001b[0;34m.\u001b[0m\u001b[0masarray\u001b[0m\u001b[0;34m(\u001b[0m\u001b[0mlabels\u001b[0m\u001b[0;34m)\u001b[0m\u001b[0;34m)\u001b[0m\u001b[0;34m\u001b[0m\u001b[0;34m\u001b[0m\u001b[0m\n\u001b[1;32m      4\u001b[0m \u001b[0mmodel\u001b[0m\u001b[0;34m.\u001b[0m\u001b[0msave\u001b[0m\u001b[0;34m(\u001b[0m\u001b[0;34m'p0.data'\u001b[0m\u001b[0;34m)\u001b[0m\u001b[0;34m\u001b[0m\u001b[0;34m\u001b[0m\u001b[0m\n\u001b[1;32m      5\u001b[0m \u001b[0mprint\u001b[0m\u001b[0;34m(\u001b[0m\u001b[0;34m'training done'\u001b[0m\u001b[0;34m)\u001b[0m\u001b[0;34m\u001b[0m\u001b[0;34m\u001b[0m\u001b[0m\n",
      "\u001b[0;31mAttributeError\u001b[0m: module 'cv2' has no attribute 'face'"
     ]
    }
   ],
   "source": [
    "print('training......')\n",
    "model = cv2.face.LBPHFaceRecognizer_create()\n",
    "model.train(np.asarray(images), np.asarray(labels))\n",
    "model.save('p0.data')\n",
    "print('training done')"
   ]
  },
  {
   "cell_type": "code",
   "execution_count": null,
   "id": "11eff686",
   "metadata": {},
   "outputs": [],
   "source": [
    "import cv2\n",
    "model = cv2.face.LBPHFaceRecognizer_create()\n",
    "model.read('p0.data')\n",
    "print('load training data done')\n",
    "\n",
    "\n",
    "\n",
    "ESC = 27 #ASCII code of ESC is 27\n",
    "cap = cv2.VideoCapture(0)#0 is the first camera of your computer\n",
    "cv2.namedWindow('test', cv2.WINDOW_NORMAL)\n",
    "face_cascade = cv2.CascadeClassifier(cv2.data.haarcascades + 'haarcascade_frontalface_alt2.xml')\n",
    "eye_cascade = cv2.CascadeClassifier(cv2.data.haarcascades + 'haarcascade_eye.xml')\n",
    "names = ['name']  # name of the face\n",
    "\n",
    "while True:\n",
    "    ret, frame = cap.read()\n",
    "    frame = cv2.flip(frame, 1)    \n",
    "    gray = cv2.cvtColor(frame, cv2.COLOR_BGR2GRAY)\n",
    "    faces = face_cascade.detectMultiScale(gray, 1.3, 3)\n",
    "    \n",
    "    for (x, y, w, h) in faces:\n",
    "        \n",
    "        cv2.rectangle(frame, (x, y), (x+w, y+h), (0, 0, 255), 2)\n",
    "        face_image = cv2.resize(gray[y: y+h, x: x+w], (400,400))\n",
    "       \n",
    "        try:\n",
    "            val = mode.predict(face_image)\n",
    "            print(f'label:{val[0]}, confidence:{val[1]}')\n",
    "        except:\n",
    "            pass\n",
    "            \n",
    "    cv2.imshow('test', frame)\n",
    "      \n",
    "    if cv2.waitKey(10) == ESC:\n",
    "        break\n",
    "        \n",
    "cv2.destroyAllWindows()\n",
    "cv2.waitKey(1)   \n",
    "cap.release()"
   ]
  }
 ],
 "metadata": {
  "kernelspec": {
   "display_name": "Python 3 (ipykernel)",
   "language": "python",
   "name": "python3"
  },
  "language_info": {
   "codemirror_mode": {
    "name": "ipython",
    "version": 3
   },
   "file_extension": ".py",
   "mimetype": "text/x-python",
   "name": "python",
   "nbconvert_exporter": "python",
   "pygments_lexer": "ipython3",
   "version": "3.8.12"
  }
 },
 "nbformat": 4,
 "nbformat_minor": 5
}
