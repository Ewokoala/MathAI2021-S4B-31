{
 "cells": [
  {
   "cell_type": "code",
   "execution_count": 1,
   "id": "a4afdd01",
   "metadata": {},
   "outputs": [],
   "source": [
    "import cv2\n",
    "ESC = 27 #ASCII code of ESC is 27"
   ]
  },
  {
   "cell_type": "code",
   "execution_count": 2,
   "id": "f7ac5386",
   "metadata": {},
   "outputs": [],
   "source": [
    "#0 is the first camera of your computer\n",
    "# Get the ratio of camera\n",
    "# Change the width of frame\n",
    "# Change the height of frame"
   ]
  },
  {
   "cell_type": "markdown",
   "id": "4b7486ed",
   "metadata": {},
   "source": [
    "flip code: 0 means flipping around the x-axis and positive value, 1 means flipping around y-axis. -1 means flipping around both axes."
   ]
  },
  {
   "cell_type": "code",
   "execution_count": 3,
   "id": "1616d443",
   "metadata": {},
   "outputs": [],
   "source": []
  },
  {
   "cell_type": "markdown",
   "id": "d740b7c9",
   "metadata": {},
   "source": [
    "When the image file is read with the OpenCV function, the order of colors is BGR (blue, green, red)"
   ]
  },
  {
   "cell_type": "code",
   "execution_count": null,
   "id": "e2675ee3",
   "metadata": {},
   "outputs": [],
   "source": []
  }
 ],
 "metadata": {
  "kernelspec": {
   "display_name": "Python 3",
   "language": "python",
   "name": "python3"
  },
  "language_info": {
   "codemirror_mode": {
    "name": "ipython",
    "version": 3
   },
   "file_extension": ".py",
   "mimetype": "text/x-python",
   "name": "python",
   "nbconvert_exporter": "python",
   "pygments_lexer": "ipython3",
   "version": "3.8.8"
  }
 },
 "nbformat": 4,
 "nbformat_minor": 5
}
