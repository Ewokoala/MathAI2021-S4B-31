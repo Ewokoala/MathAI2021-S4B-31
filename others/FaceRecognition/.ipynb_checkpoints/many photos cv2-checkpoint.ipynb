{
 "cells": [
  {
   "cell_type": "code",
   "execution_count": 1,
   "id": "e399e791",
   "metadata": {},
   "outputs": [],
   "source": [
    "import cv2\n",
    "import os\n",
    "ESC = 27\n",
    "n = 1\n",
    "index = 0\n",
    "total = 100"
   ]
  },
  {
   "cell_type": "code",
   "execution_count": 3,
   "id": "fc38c12d",
   "metadata": {},
   "outputs": [],
   "source": [
    "def saveImage(face_image, index):\n",
    "    filename = f'images/p0/{index}.jpeg'\n",
    "    cv2.imwrite(filename, face_image)\n",
    "    print(filename)"
   ]
  },
  {
   "cell_type": "code",
   "execution_count": 5,
   "id": "37e42839",
   "metadata": {},
   "outputs": [],
   "source": [
    "DirPATH = os.path.join(f'images')\n",
    "\n",
    "try:\n",
    "    os.mkdir(DirPATH)\n",
    "except FileExistsError:\n",
    "    print('Directory already exists!')\n",
    "    pass\n",
    "\n",
    "DirPATH = os.path.join(f'images/p0')\n",
    "\n",
    "try:\n",
    "    os.mkdir(DirPATH)\n",
    "except FileExistsError:\n",
    "    print('Directory already exists!')\n",
    "    pass"
   ]
  },
  {
   "cell_type": "code",
   "execution_count": null,
   "id": "63d2a808",
   "metadata": {},
   "outputs": [],
   "source": [
    "cap = cv2.VideoCapture(0)#0 is the first camera of your computer\n",
    "ratio = cap.get(cv2.CAP_PROP_FRAME_WIDTH) / cap.get(cv2.CAP_PROP_FRAME_HEIGHT)# Get the ratio of camera\n",
    "WIDTH = 600 # Change the width of frame\n",
    "HEIGHT = int(WIDTH/ratio) # Change the height of frame\n",
    "font = cv2.FONT_HERSHEY_SIMPLEX\n",
    "\n",
    "\n",
    "cv2.namedWindow('test', cv2.WINDOW_NORMAL)\n",
    "face_cascade = cv2.CascadeClassifier(cv2.data.haarcascades + 'haarcascade_frontalface_alt2.xml')\n",
    "eye_cascade = cv2.CascadeClassifier(cv2.data.haarcascades + 'haarcascade_eye.xml')\n",
    "\n",
    "ret = True\n",
    "while ret and n > 0:\n",
    "    ret, frame = cap.read()\n",
    "    frame = cv2.resize(frame, (WIDTH, HEIGHT))\n",
    "    frame = cv2.flip(frame, 1)    \n",
    "    gray = cv2.cvtColor(frame, cv2.COLOR_BGR2GRAY)\n",
    "    faces = face_cascade.detectMultiScale(gray, 1.3, 3)\n",
    "    \n",
    "    for (x, y, w, h) in faces:\n",
    "        if w != 0 and h != 0:\n",
    "            cv2.putText(frame , str(index), (10,80), font, 3, (0,0,0), 2, cv2.LINE_AA)\n",
    "            cv2.rectangle(frame, (x, y), (x+w, y+h), (0, 0, 255), 2)\n",
    "        \n",
    "            if n%5 == 0:\n",
    "                face_image = cv2.resize(gray[y:y+h, x:x+w], (400,400))\n",
    "                saveImage(face_image, index)\n",
    "                index += 1\n",
    "                if index >= total:\n",
    "                    print(f'Save {index} photos')\n",
    "                    n -= 1\n",
    "                    break\n",
    "            n += 1\n",
    "    cv2.imshow('test', frame)\n",
    "      \n",
    "    if cv2.waitKey(10) == ESC:\n",
    "        break\n",
    "        \n",
    "cv2.destroyAllWindows()\n",
    "cv2.waitKey(1)   \n",
    "cap.release()"
   ]
  }
 ],
 "metadata": {
  "kernelspec": {
   "display_name": "Python 3",
   "language": "python",
   "name": "python3"
  },
  "language_info": {
   "codemirror_mode": {
    "name": "ipython",
    "version": 3
   },
   "file_extension": ".py",
   "mimetype": "text/x-python",
   "name": "python",
   "nbconvert_exporter": "python",
   "pygments_lexer": "ipython3",
   "version": "3.8.8"
  }
 },
 "nbformat": 4,
 "nbformat_minor": 5
}
