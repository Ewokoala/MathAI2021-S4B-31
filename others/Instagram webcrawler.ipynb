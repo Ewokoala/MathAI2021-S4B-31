{
 "cells": [
  {
   "cell_type": "code",
   "execution_count": 1,
   "id": "340e2468",
   "metadata": {},
   "outputs": [],
   "source": [
    "import time\n",
    "from selenium import webdriver #open googledriver\n",
    "from selenium.webdriver.common.by import By \n",
    "from selenium.webdriver.support.ui import WebDriverWait \n",
    "from selenium.webdriver.support import expected_conditions as EC \n",
    "from selenium.webdriver.support.ui import Select\n",
    "from selenium.webdriver.common.keys import Keys\n",
    "import os\n",
    "import wget\n",
    "\n",
    "myname = 'salmonlemonrice'\n",
    "password = 'Pc04005147%'"
   ]
  },
  {
   "cell_type": "code",
   "execution_count": 2,
   "id": "d0689d0c",
   "metadata": {},
   "outputs": [],
   "source": [
    "PATH = '/Users/thomas/Desktop/WebCrawler/chromedriver'\n",
    "driver = webdriver.Chrome(PATH)\n",
    "\n",
    "driver.get('https://instagram.com')"
   ]
  },
  {
   "cell_type": "code",
   "execution_count": 3,
   "id": "5fef5241",
   "metadata": {},
   "outputs": [],
   "source": [
    "name = WebDriverWait(driver, 10).until(\n",
    "    EC.presence_of_element_located((By.NAME, 'username'))\n",
    ")\n",
    "\n",
    "name.clear()\n",
    "name.send_keys(myname)"
   ]
  },
  {
   "cell_type": "code",
   "execution_count": 4,
   "id": "e09a14cf",
   "metadata": {},
   "outputs": [],
   "source": [
    "word = WebDriverWait(driver,10).until(\n",
    "    EC.presence_of_element_located((By.NAME, 'password'))\n",
    ")\n",
    "\n",
    "word.clear()\n",
    "word.send_keys(password)"
   ]
  },
  {
   "cell_type": "code",
   "execution_count": 5,
   "id": "d561e6a7",
   "metadata": {},
   "outputs": [],
   "source": [
    "login = WebDriverWait(driver, 10).until(\n",
    "    EC.presence_of_element_located((By.XPATH, '//*[@id=\"loginForm\"]/div/div[3]/button/div'))\n",
    ")\n",
    "\n",
    "login.click()"
   ]
  },
  {
   "cell_type": "code",
   "execution_count": 6,
   "id": "4f3c5499",
   "metadata": {},
   "outputs": [],
   "source": [
    "search = WebDriverWait(driver, 10).until(\n",
    "    EC.presence_of_element_located((By.XPATH, '//*[@id=\"react-root\"]/section/nav/div[2]/div/div/div[2]/input'))\n",
    ")\n",
    "\n",
    "keyword = \"#ikeashark\"\n",
    "search.clear()\n",
    "search.send_keys(keyword)\n",
    "\n",
    "time.sleep(1)\n",
    "search.send_keys(Keys.RETURN)   # press enter\n",
    "time.sleep(1)\n",
    "search.send_keys(Keys.RETURN)"
   ]
  },
  {
   "cell_type": "code",
   "execution_count": 7,
   "id": "8fc09dce",
   "metadata": {},
   "outputs": [],
   "source": [
    "WebDriverWait(driver, 10).until(\n",
    "    EC.presence_of_all_elements_located((By.CLASS_NAME, 'FFVAD'))\n",
    ")\n",
    "\n",
    "\n",
    "#for i in range(2):\n",
    "driver.execute_script('window.scrollTo(0, document.body.scrollHeight);')\n",
    "time.sleep(5)"
   ]
  },
  {
   "cell_type": "code",
   "execution_count": 8,
   "id": "a845a9e0",
   "metadata": {},
   "outputs": [
    {
     "name": "stdout",
     "output_type": "stream",
     "text": [
      "Error\n"
     ]
    }
   ],
   "source": [
    "DirPATH = os.path.join(keyword)\n",
    "\n",
    "try:\n",
    "    os.mkdir(DirPATH)\n",
    "except FileExistsError:\n",
    "        print('Error')\n",
    "        pass"
   ]
  },
  {
   "cell_type": "code",
   "execution_count": 10,
   "id": "578cea9c",
   "metadata": {},
   "outputs": [
    {
     "ename": "TypeError",
     "evalue": "'WebElement' object is not iterable",
     "output_type": "error",
     "traceback": [
      "\u001b[0;31m---------------------------------------------------------------------------\u001b[0m",
      "\u001b[0;31mTypeError\u001b[0m                                 Traceback (most recent call last)",
      "\u001b[0;32m<ipython-input-10-5185947370a2>\u001b[0m in \u001b[0;36m<module>\u001b[0;34m\u001b[0m\n\u001b[1;32m      2\u001b[0m \u001b[0;34m\u001b[0m\u001b[0m\n\u001b[1;32m      3\u001b[0m \u001b[0mcount\u001b[0m \u001b[0;34m=\u001b[0m \u001b[0;36m0\u001b[0m\u001b[0;34m\u001b[0m\u001b[0;34m\u001b[0m\u001b[0m\n\u001b[0;32m----> 4\u001b[0;31m \u001b[0;32mfor\u001b[0m \u001b[0mimg\u001b[0m \u001b[0;32min\u001b[0m \u001b[0mimgs\u001b[0m\u001b[0;34m:\u001b[0m\u001b[0;34m\u001b[0m\u001b[0;34m\u001b[0m\u001b[0m\n\u001b[0m\u001b[1;32m      5\u001b[0m     \u001b[0msave_as\u001b[0m \u001b[0;34m=\u001b[0m \u001b[0mos\u001b[0m\u001b[0;34m.\u001b[0m\u001b[0mpath\u001b[0m\u001b[0;34m.\u001b[0m\u001b[0mjoin\u001b[0m\u001b[0;34m(\u001b[0m\u001b[0mDirPATH\u001b[0m\u001b[0;34m,\u001b[0m \u001b[0mkeyword\u001b[0m \u001b[0;34m+\u001b[0m \u001b[0mstr\u001b[0m\u001b[0;34m(\u001b[0m\u001b[0mcount\u001b[0m\u001b[0;34m)\u001b[0m \u001b[0;34m+\u001b[0m \u001b[0;34m'.jpg'\u001b[0m\u001b[0;34m)\u001b[0m\u001b[0;34m\u001b[0m\u001b[0;34m\u001b[0m\u001b[0m\n\u001b[1;32m      6\u001b[0m     \u001b[0mwget\u001b[0m\u001b[0;34m.\u001b[0m\u001b[0mdownload\u001b[0m\u001b[0;34m(\u001b[0m\u001b[0mimg\u001b[0m\u001b[0;34m.\u001b[0m\u001b[0mget_attribute\u001b[0m\u001b[0;34m(\u001b[0m\u001b[0;34m'src'\u001b[0m\u001b[0;34m)\u001b[0m\u001b[0;34m,\u001b[0m \u001b[0msave_as\u001b[0m\u001b[0;34m)\u001b[0m\u001b[0;34m\u001b[0m\u001b[0;34m\u001b[0m\u001b[0m\n",
      "\u001b[0;31mTypeError\u001b[0m: 'WebElement' object is not iterable"
     ]
    }
   ],
   "source": [
    "imgs = driver.find_element_by_class_name('FFVAD')\n",
    "\n",
    "count = 0\n",
    "for img in imgs:\n",
    "    save_as = os.path.join(DirPATH, keyword + str(count) + '.jpg')\n",
    "    wget.download(img.get_attribute('src'), save_as)\n",
    "    count += 1\n",
    "    \n",
    "print(f'\\nSaved {count} photos')"
   ]
  },
  {
   "cell_type": "code",
   "execution_count": null,
   "id": "49842068",
   "metadata": {},
   "outputs": [],
   "source": []
  }
 ],
 "metadata": {
  "kernelspec": {
   "display_name": "Python 3",
   "language": "python",
   "name": "python3"
  },
  "language_info": {
   "codemirror_mode": {
    "name": "ipython",
    "version": 3
   },
   "file_extension": ".py",
   "mimetype": "text/x-python",
   "name": "python",
   "nbconvert_exporter": "python",
   "pygments_lexer": "ipython3",
   "version": "3.8.8"
  }
 },
 "nbformat": 4,
 "nbformat_minor": 5
}
