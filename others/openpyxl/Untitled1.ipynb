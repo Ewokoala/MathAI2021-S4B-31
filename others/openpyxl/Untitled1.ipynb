{
 "cells": [
  {
   "cell_type": "code",
   "execution_count": 1,
   "id": "9844f4bf",
   "metadata": {},
   "outputs": [],
   "source": [
    "from openpyxl import Workbook, load_workbook \n",
    "from openpyxl.utils import get_column_letter"
   ]
  },
  {
   "cell_type": "code",
   "execution_count": 4,
   "id": "c772462b",
   "metadata": {},
   "outputs": [],
   "source": [
    "wb = Workbook()\n",
    "ws = wb.active\n",
    "ws.title = 'Page 1'"
   ]
  },
  {
   "cell_type": "code",
   "execution_count": 5,
   "id": "2ac27582",
   "metadata": {},
   "outputs": [],
   "source": [
    "ws.append(['A', 'B', 'C', 'D'])\n",
    "ws.append([1, 2, 3, 4])"
   ]
  },
  {
   "cell_type": "code",
   "execution_count": 7,
   "id": "2157ee24",
   "metadata": {},
   "outputs": [],
   "source": [
    "wb.save('test1.xlsx')"
   ]
  },
  {
   "cell_type": "code",
   "execution_count": 9,
   "id": "dcacc6ed",
   "metadata": {},
   "outputs": [],
   "source": [
    "wb = load_workbook('test1.xlsx')\n",
    "ws = wb.active"
   ]
  },
  {
   "cell_type": "code",
   "execution_count": 16,
   "id": "753dadda",
   "metadata": {},
   "outputs": [
    {
     "name": "stdout",
     "output_type": "stream",
     "text": [
      "A\n"
     ]
    }
   ],
   "source": [
    "print(ws['A1'].value)"
   ]
  },
  {
   "cell_type": "code",
   "execution_count": 17,
   "id": "59bc9e39",
   "metadata": {},
   "outputs": [],
   "source": [
    "ws['A1'].value = 10\n",
    "ws['B1'].value = 20"
   ]
  },
  {
   "cell_type": "code",
   "execution_count": 18,
   "id": "3f9cad21",
   "metadata": {},
   "outputs": [],
   "source": [
    "wb.save('test1.xlsx')"
   ]
  },
  {
   "cell_type": "code",
   "execution_count": 30,
   "id": "1911b6f6",
   "metadata": {},
   "outputs": [],
   "source": [
    "wb = load_workbook('test1.xlsx')\n",
    "ws = wb.active"
   ]
  },
  {
   "cell_type": "code",
   "execution_count": 31,
   "id": "93e57762",
   "metadata": {},
   "outputs": [
    {
     "name": "stdout",
     "output_type": "stream",
     "text": [
      "10\t20\tC\tD\t\n",
      "1\t2\t3\t4\t\n",
      "None\tNone\tNone\tNone\t\n",
      "None\tNone\tNone\tNone\t\n",
      "50\t124\t515\t5\t\n",
      "None\tNone\tNone\tNone\t\n"
     ]
    }
   ],
   "source": [
    "for row in range(1,7):\n",
    "    for col in range(1,5):\n",
    "        char = get_column_letter(col)\n",
    "        print(str(ws[char + str(row)].value) + '\\t' , end = '' )\n",
    "    print('')"
   ]
  },
  {
   "cell_type": "code",
   "execution_count": 32,
   "id": "b0101320",
   "metadata": {},
   "outputs": [],
   "source": [
    "ws.append([50, 124, 515, 5])\n",
    "ws.delete_rows(2)"
   ]
  },
  {
   "cell_type": "code",
   "execution_count": 33,
   "id": "1dbed68d",
   "metadata": {},
   "outputs": [],
   "source": [
    "wb.save('test1.xlsx')"
   ]
  },
  {
   "cell_type": "code",
   "execution_count": null,
   "id": "65ceeedd",
   "metadata": {},
   "outputs": [],
   "source": []
  }
 ],
 "metadata": {
  "kernelspec": {
   "display_name": "Python 3",
   "language": "python",
   "name": "python3"
  },
  "language_info": {
   "codemirror_mode": {
    "name": "ipython",
    "version": 3
   },
   "file_extension": ".py",
   "mimetype": "text/x-python",
   "name": "python",
   "nbconvert_exporter": "python",
   "pygments_lexer": "ipython3",
   "version": "3.8.8"
  }
 },
 "nbformat": 4,
 "nbformat_minor": 5
}
