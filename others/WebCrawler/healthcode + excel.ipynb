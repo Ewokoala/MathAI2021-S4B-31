{
 "cells": [
  {
   "cell_type": "code",
   "execution_count": 1,
   "id": "51914483",
   "metadata": {},
   "outputs": [
    {
     "name": "stderr",
     "output_type": "stream",
     "text": [
      "<ipython-input-1-f1ab7eed07cc>:20: DeprecationWarning: use driver.switch_to.frame instead\n",
      "  driver.switch_to_frame(\"pageToolsbar_frame\")\n"
     ]
    }
   ],
   "source": [
    "from selenium import webdriver #open googledriver\n",
    "from selenium.webdriver.common.by import By \n",
    "from selenium.webdriver.support.ui import WebDriverWait \n",
    "from selenium.webdriver.support import expected_conditions as EC \n",
    "from selenium.webdriver.support.ui import Select\n",
    "\n",
    "\n",
    "\n",
    "from openpyxl import Workbook, load_workbook \n",
    "from openpyxl.utils import get_column_letter\n",
    "\n",
    "\n",
    "\n",
    "PATH = \"/Users/thomas/Desktop/WebCrawler/chromedriver\"\n",
    "driver = webdriver.Chrome(PATH)\n",
    "\n",
    "link = \"https://app.ssm.gov.mo/healthPHD/page/index.html\"\n",
    "driver.get(link)\n",
    "\n",
    "driver.switch_to_frame(\"pageToolsbar_frame\")\n",
    "    "
   ]
  },
  {
   "cell_type": "code",
   "execution_count": 2,
   "id": "6ef8fb56",
   "metadata": {},
   "outputs": [],
   "source": [
    "buttons = driver.find_elements_by_class_name(\"btn\")\n",
    "\n",
    "for b in buttons:\n",
    "    if b.text == \"English\":\n",
    "        b.click()\n",
    "        break\n",
    "        \n",
    "buttons = driver.find_elements_by_class_name(\"btn\")\n",
    "\n",
    "for b in buttons:\n",
    "    if b.text == \"Enter\":\n",
    "        b.click()\n",
    "        break"
   ]
  },
  {
   "cell_type": "code",
   "execution_count": 3,
   "id": "b09cc520",
   "metadata": {},
   "outputs": [],
   "source": [
    "def click(by_type, name):\n",
    "    if by_type == 'name':\n",
    "        checkbox = WebDriverWait(driver, 10).until(\n",
    "                EC.presence_of_element_located((By.NAME, name))\n",
    "            )\n",
    "        checkbox.click()\n",
    "        \n",
    "    elif by_type =='id':\n",
    "        checkbox = WebDriverWait(driver, 10).until(\n",
    "                EC.presence_of_element_located((By.ID, name))\n",
    "            )\n",
    "        checkbox.click()\n",
    "        \n",
    "        \n",
    "    elif by_type == 'class':\n",
    "        checkbox = WebDriverWait(driver, 10).until(\n",
    "                EC.presence_of_element_located((By.CLASS_NAME, name))\n",
    "            )\n",
    "        checkbox.click()\n",
    "\n",
    "        \n",
    "def enter(name, key):\n",
    "    IDnumber = WebDriverWait(driver, 10).until(\n",
    "        EC.presence_of_element_located((By.NAME , name))\n",
    "    )\n",
    "\n",
    "    IDnumber.clear()\n",
    "    IDnumber.send_keys(key)    \n",
    "\n",
    "def select(name, value):\n",
    "    bar = WebDriverWait(driver, 10).until(\n",
    "        EC.presence_of_element_located((By.NAME, name))\n",
    "    )\n",
    "    \n",
    "    Select(bar).select_by_value(value)              "
   ]
  },
  {
   "cell_type": "code",
   "execution_count": 4,
   "id": "0d0e1525",
   "metadata": {},
   "outputs": [],
   "source": [
    "wb = load_workbook('Information.xlsx')\n",
    "ws = wb.active"
   ]
  },
  {
   "cell_type": "code",
   "execution_count": 5,
   "id": "d23054ca",
   "metadata": {},
   "outputs": [],
   "source": [
    "click('name', 'agreement')\n",
    "click('id', 'btnAgree')\n",
    "enter('surname', ws['A2'].value)\n",
    "select('sex', ws['B2'].value)\n",
    "select('dob_year', ws['C2'].value.strftime('%Y'))\n",
    "select('dob_month', ws['C2'].value.strftime('%m'))\n",
    "select('dob_day', ws['C2'].value.strftime('%d'))\n",
    "click('name', 'idType')\n",
    "enter('idNum', ws['D2'].value)\n",
    "click('name', 'tel_type')  #how about others?\n",
    "enter('tel_macau', ws['F2'].value)\n"
   ]
  },
  {
   "cell_type": "code",
   "execution_count": 6,
   "id": "da5c0aa8",
   "metadata": {
    "scrolled": true
   },
   "outputs": [],
   "source": [
    "symptom = driver.find_element_by_xpath('//*[@id=\"qform\"]/div[2]/div[3]/div/div/div[3]/label/input')\n",
    "\n",
    "symptom.click()"
   ]
  },
  {
   "cell_type": "code",
   "execution_count": null,
   "id": "50851463",
   "metadata": {},
   "outputs": [],
   "source": []
  }
 ],
 "metadata": {
  "kernelspec": {
   "display_name": "Python 3",
   "language": "python",
   "name": "python3"
  },
  "language_info": {
   "codemirror_mode": {
    "name": "ipython",
    "version": 3
   },
   "file_extension": ".py",
   "mimetype": "text/x-python",
   "name": "python",
   "nbconvert_exporter": "python",
   "pygments_lexer": "ipython3",
   "version": "3.8.8"
  }
 },
 "nbformat": 4,
 "nbformat_minor": 5
}
