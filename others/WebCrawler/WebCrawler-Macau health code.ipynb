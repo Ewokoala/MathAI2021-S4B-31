{
 "cells": [
  {
   "cell_type": "markdown",
   "id": "80008f4c",
   "metadata": {},
   "source": [
    "Download selenium by \"conda install selenium\"\n",
    "\n",
    "Download chromedriver, noted that the version must be the same as you google chrome"
   ]
  },
  {
   "cell_type": "code",
   "execution_count": 1,
   "id": "5615ac75",
   "metadata": {},
   "outputs": [],
   "source": [
    "from selenium import webdriver #open googledriver\n",
    "from selenium.webdriver.common.by import By \n",
    "from selenium.webdriver.support.ui import WebDriverWait \n",
    "from selenium.webdriver.support import expected_conditions as EC \n",
    "from selenium.webdriver.support.ui import Select"
   ]
  },
  {
   "cell_type": "code",
   "execution_count": 2,
   "id": "c3a5da11",
   "metadata": {},
   "outputs": [],
   "source": [
    "PATH = \"/Users/thomas/Desktop/WebCrawler/chromedriver\"\n",
    "driver = webdriver.Chrome(PATH)\n",
    "\n",
    "link = \"https://app.ssm.gov.mo/healthPHD/page/index.html\"\n",
    "driver.get(link)"
   ]
  },
  {
   "cell_type": "code",
   "execution_count": 3,
   "id": "98eccef4",
   "metadata": {},
   "outputs": [
    {
     "name": "stderr",
     "output_type": "stream",
     "text": [
      "<ipython-input-3-b5a71caa5b5c>:1: DeprecationWarning: use driver.switch_to.frame instead\n",
      "  driver.switch_to_frame(\"pageToolsbar_frame\")\n"
     ]
    }
   ],
   "source": [
    "driver.switch_to_frame(\"pageToolsbar_frame\")"
   ]
  },
  {
   "cell_type": "code",
   "execution_count": 4,
   "id": "b16e0a2a",
   "metadata": {},
   "outputs": [
    {
     "name": "stdout",
     "output_type": "stream",
     "text": [
      "進入聲明\n",
      "繁體\n",
      "简体\n",
      "Português\n",
      "English\n"
     ]
    }
   ],
   "source": [
    "buttons = driver.find_elements_by_class_name(\"btn\")\n",
    "\n",
    "for b in buttons:\n",
    "    print(b.text)\n",
    "    \n",
    "    if b.text == \"English\":\n",
    "        b.click()\n",
    "        break"
   ]
  },
  {
   "cell_type": "code",
   "execution_count": 5,
   "id": "9a2684df",
   "metadata": {},
   "outputs": [],
   "source": [
    "buttons = driver.find_elements_by_class_name(\"btn\")\n",
    "\n",
    "for b in buttons:\n",
    "    if b.text == \"Enter\":\n",
    "        b.click()\n",
    "        break"
   ]
  },
  {
   "cell_type": "code",
   "execution_count": 6,
   "id": "ecba3167",
   "metadata": {},
   "outputs": [],
   "source": [
    "def click_checkbox(by_type, name):\n",
    "    if by_type == 'NAME':\n",
    "        checkbox = WebDriverWait(driver, 10).until(\n",
    "                EC.presence_of_element_located((By.NAME, name))\n",
    "            )\n",
    "        checkbox.click()\n",
    "        \n",
    "    elif by_type =='ID':\n",
    "        checkbox = WebDriverWait(driver, 10).until(\n",
    "                EC.presence_of_element_located((By.ID, name))\n",
    "            )\n",
    "        checkbox.click()\n",
    "        \n",
    "        \n",
    "    elif by_type == 'CLASS':\n",
    "        checkbox = WebDriverWait(driver, 10).until(\n",
    "                EC.presence_of_element_located((By.CLASS_NAME, name))\n",
    "            )\n",
    "        checkbox.click()\n",
    "                \n",
    "\n",
    "def enter_key(name, key):\n",
    "    IDnumber = WebDriverWait(driver, 10).until(\n",
    "        EC.presence_of_element_located((By.NAME , name))\n",
    "    )\n",
    "\n",
    "    IDnumber.clear()\n",
    "    IDnumber.send_keys(key)    \n",
    "\n",
    "def barselect(name, value):\n",
    "    bar = WebDriverWait(driver, 10).until(\n",
    "        EC.presence_of_element_located((By.NAME, name))\n",
    "    )\n",
    "    \n",
    "    Select(bar).select_by_value(value)\n",
    "    \n",
    "    "
   ]
  },
  {
   "cell_type": "code",
   "execution_count": 7,
   "id": "89baaf30",
   "metadata": {},
   "outputs": [],
   "source": [
    "click_checkbox('NAME', 'agreement')"
   ]
  },
  {
   "cell_type": "code",
   "execution_count": 8,
   "id": "46ac0dbb",
   "metadata": {},
   "outputs": [],
   "source": [
    "click_checkbox('ID', 'btnAgree')"
   ]
  },
  {
   "cell_type": "code",
   "execution_count": 9,
   "id": "2e9d52bb",
   "metadata": {},
   "outputs": [],
   "source": [
    "enter_key('surname', 'Lio Keng Lam')"
   ]
  },
  {
   "cell_type": "code",
   "execution_count": 10,
   "id": "24e83e1a",
   "metadata": {},
   "outputs": [],
   "source": [
    "barselect('sex', 'M')"
   ]
  },
  {
   "cell_type": "code",
   "execution_count": 11,
   "id": "4d646e56",
   "metadata": {},
   "outputs": [],
   "source": [
    "barselect('dob_year', '2001')\n",
    "barselect('dob_month', '10')\n",
    "barselect('dob_day', '17')"
   ]
  },
  {
   "cell_type": "code",
   "execution_count": 12,
   "id": "1b374079",
   "metadata": {},
   "outputs": [],
   "source": [
    "click_checkbox('NAME', 'idType')\n",
    "enter_key('idNum', '13567110')"
   ]
  },
  {
   "cell_type": "code",
   "execution_count": 13,
   "id": "823ed4de",
   "metadata": {},
   "outputs": [],
   "source": [
    "click_checkbox('NAME', 'tel_type')"
   ]
  },
  {
   "cell_type": "code",
   "execution_count": 14,
   "id": "b68c177f",
   "metadata": {},
   "outputs": [],
   "source": [
    "enter_key('tel_macau', '66696118')"
   ]
  },
  {
   "cell_type": "code",
   "execution_count": 15,
   "id": "e02f1e60",
   "metadata": {},
   "outputs": [],
   "source": [
    "click_checkbox('CLASS', 'symptom-99')"
   ]
  },
  {
   "cell_type": "code",
   "execution_count": 16,
   "id": "5d3d132c",
   "metadata": {},
   "outputs": [],
   "source": [
    "bar = WebDriverWait(driver, 10).until(\n",
    "        EC.presence_of_element_located((By.XPATH, '//*[@id=\"qform\"]/div[3]/div[3]/div/div/div[2]/label/input'))\n",
    "    )\n",
    "bar.click()"
   ]
  },
  {
   "cell_type": "code",
   "execution_count": 17,
   "id": "778e7f9f",
   "metadata": {},
   "outputs": [],
   "source": [
    "click_checkbox('NAME', 'abefore_place')"
   ]
  },
  {
   "cell_type": "code",
   "execution_count": 18,
   "id": "cacc423b",
   "metadata": {},
   "outputs": [],
   "source": [
    "nextbutton = driver.find_element_by_id('btnSubmit')\n",
    "\n",
    "nextbutton.click()"
   ]
  },
  {
   "cell_type": "code",
   "execution_count": 19,
   "id": "d42377e9",
   "metadata": {},
   "outputs": [],
   "source": [
    "click_checkbox('NAME', 'select1')"
   ]
  },
  {
   "cell_type": "code",
   "execution_count": 20,
   "id": "214e7615",
   "metadata": {},
   "outputs": [],
   "source": [
    "nextbutton2 = driver.find_element_by_id('btnSubmit')\n",
    "\n",
    "nextbutton2.click()"
   ]
  },
  {
   "cell_type": "code",
   "execution_count": 21,
   "id": "90c4565b",
   "metadata": {},
   "outputs": [],
   "source": [
    "nextbutton3 = driver.find_element_by_xpath('/html/body/div[4]/a')\n",
    "\n",
    "nextbutton3.click()"
   ]
  },
  {
   "cell_type": "code",
   "execution_count": 22,
   "id": "9507d0dd",
   "metadata": {},
   "outputs": [],
   "source": [
    "click_checkbox('ID', 'no')"
   ]
  },
  {
   "cell_type": "code",
   "execution_count": 23,
   "id": "43197ec1",
   "metadata": {},
   "outputs": [],
   "source": [
    "click_checkbox('ID', 'local')"
   ]
  },
  {
   "cell_type": "code",
   "execution_count": 25,
   "id": "28ef2210",
   "metadata": {},
   "outputs": [],
   "source": [
    "driver.find_element_by_class_name(\"row\").screenshot('screenshot.png')\n",
    "driver.close()"
   ]
  },
  {
   "cell_type": "code",
   "execution_count": null,
   "id": "6b4b2547",
   "metadata": {},
   "outputs": [],
   "source": []
  }
 ],
 "metadata": {
  "kernelspec": {
   "display_name": "Python 3",
   "language": "python",
   "name": "python3"
  },
  "language_info": {
   "codemirror_mode": {
    "name": "ipython",
    "version": 3
   },
   "file_extension": ".py",
   "mimetype": "text/x-python",
   "name": "python",
   "nbconvert_exporter": "python",
   "pygments_lexer": "ipython3",
   "version": "3.8.8"
  }
 },
 "nbformat": 4,
 "nbformat_minor": 5
}
