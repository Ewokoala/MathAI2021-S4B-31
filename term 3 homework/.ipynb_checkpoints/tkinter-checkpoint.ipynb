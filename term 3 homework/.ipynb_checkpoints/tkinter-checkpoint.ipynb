{
 "cells": [
  {
   "cell_type": "code",
   "execution_count": 22,
   "id": "c0fd2fd1",
   "metadata": {},
   "outputs": [],
   "source": [
    "import tkinter as tk\n",
    "root = tk.Tk()\n",
    "root.geometry(\"500x500\")\n",
    "root.title(\"title\")\n",
    "\n",
    "\n",
    "def change_page_win2():\n",
    "    win2.pack(fill = 'both', expand = 1)\n",
    "    win1.forget()\n",
    "\n",
    "\n",
    "\n",
    "    \n",
    "## win1 settings    \n",
    "win1 = tk.Frame(root)\n",
    "win1.configure(bg = \"lightblue1\")\n",
    "\n",
    "## win2 settings\n",
    "win2 = tk.Frame(root)\n",
    "win2.configure(bg = \"lightblue1\")\n",
    "\n",
    "\n",
    "\n",
    "\n",
    "\n",
    "## stuff on page 1\n",
    "menu_title = tk.Label(win1, text = \"title here\", font = (\"\", 18), fg = \"black\", bg = \"skyblue\")\n",
    "menu_title.place(x = 100, y = 100, width = 300, height = 100)\n",
    "\n",
    "\n",
    "next_page = tk.Button(win1, text = \"start\", font = (\"\",18), command = change_page_win2)\n",
    "next_page.place(x = 100, y = 300, width = 300, height = 100)\n",
    "\n",
    "\n",
    "\n",
    "## stuff on page 2\n",
    "message = tk.Label(win2, text = 'text message', font = (\"\", 18), fg = \"black\", bg = 'skyblue')\n",
    "message.place(x = 100, y = 100, width = 300, height = 100)\n",
    "\n",
    "\n",
    "\n",
    "\n",
    "\n",
    "\n",
    "\n",
    "\n",
    "\n",
    "\n",
    "\n",
    "\n",
    "\n",
    "\n",
    "## show win1 on launch\n",
    "win1.pack(fill = 'both', expand = 1)\n",
    "\n",
    "root.mainloop()"
   ]
  },
  {
   "cell_type": "code",
   "execution_count": null,
   "id": "85ef0107",
   "metadata": {},
   "outputs": [],
   "source": []
  }
 ],
 "metadata": {
  "kernelspec": {
   "display_name": "Python 3 (ipykernel)",
   "language": "python",
   "name": "python3"
  },
  "language_info": {
   "codemirror_mode": {
    "name": "ipython",
    "version": 3
   },
   "file_extension": ".py",
   "mimetype": "text/x-python",
   "name": "python",
   "nbconvert_exporter": "python",
   "pygments_lexer": "ipython3",
   "version": "3.9.12"
  }
 },
 "nbformat": 4,
 "nbformat_minor": 5
}
