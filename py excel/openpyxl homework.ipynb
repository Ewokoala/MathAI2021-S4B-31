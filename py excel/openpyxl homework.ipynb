{
 "cells": [
  {
   "cell_type": "code",
   "execution_count": 2,
   "id": "8bf9a1df",
   "metadata": {},
   "outputs": [],
   "source": [
    "from openpyxl import Workbook, load_workbook \n",
    "from openpyxl.utils import get_column_letter"
   ]
  },
  {
   "cell_type": "code",
   "execution_count": 2,
   "id": "3efcbae8",
   "metadata": {},
   "outputs": [],
   "source": [
    "wb = Workbook()\n",
    "ws = wb.active"
   ]
  },
  {
   "cell_type": "code",
   "execution_count": 3,
   "id": "89cd706f",
   "metadata": {},
   "outputs": [],
   "source": [
    "title = ['Name', 'Number', 'Price']\n",
    "ws.append(title)"
   ]
  },
  {
   "cell_type": "code",
   "execution_count": 4,
   "id": "42f93b73",
   "metadata": {},
   "outputs": [],
   "source": [
    "ws.append(['apple', 10, 1.5])\n",
    "ws.append(['orange', 12, 1])\n",
    "ws.append(['banana', 8, 1])\n",
    "    \n",
    "wb.save('openpyxl_homework.xlsx')"
   ]
  },
  {
   "cell_type": "code",
   "execution_count": null,
   "id": "f6d30165",
   "metadata": {},
   "outputs": [],
   "source": []
  },
  {
   "cell_type": "code",
   "execution_count": 42,
   "id": "59ddb6f0",
   "metadata": {},
   "outputs": [],
   "source": [
    "wb = load_workbook('openpyxl_homework.xlsx')\n",
    "ws = wb.active"
   ]
  },
  {
   "cell_type": "code",
   "execution_count": 40,
   "id": "e5afc4d0",
   "metadata": {},
   "outputs": [
    {
     "name": "stdout",
     "output_type": "stream",
     "text": [
      "Name\tNumber\tPrice\t\n",
      "apple\t10\t1.5\t\n",
      "orange\t12\t1\t\n",
      "banana\t8\t1\t\n",
      "None\tNone\tNone\t\n",
      "None\t=SUM(B2:B5)\tNone\t\n"
     ]
    }
   ],
   "source": [
    "for row in range(1,7):\n",
    "    for col in range(1,4):\n",
    "        char = get_column_letter(col)\n",
    "        \n",
    "        print(str(ws[char + str(row)].value) + '\\t', end ='')\n",
    "    print('')"
   ]
  },
  {
   "cell_type": "code",
   "execution_count": 45,
   "id": "0be2fd0f",
   "metadata": {},
   "outputs": [],
   "source": [
    "#ws['B6'] = int(ws['B2'].value) + int(ws['B3'].value ) + int(ws['B4'].value)\n",
    "\n",
    "col2 = get_column_letter(2)\n",
    "col3 = get_column_letter(3)\n",
    "\n",
    "\n",
    "ws[col2 + '6'] = f'=SUM({ col2 + \"2\"}:{ col2 + \"5\"})'\n",
    "    \n",
    "    \n",
    "#ws['C6'] = (\n",
    "           #int(ws['B2'].value)*float(ws['C2'].value) + \n",
    "           #int(ws['B3'].value)*int(ws['C3'].value) + \n",
    "           #int(ws['B4'].value)*int(ws['C4'].value)\n",
    "           #)\n",
    "        \n",
    "#ws[col3 + '6'] = f'=sum({(col2 + '2')*(col3 + '3')}:{col3 + '2'}*{col3 + '3'})      \n",
    "\n",
    "        \n",
    "#ws.delete_rows(6)"
   ]
  },
  {
   "cell_type": "code",
   "execution_count": 49,
   "id": "3a625f13",
   "metadata": {},
   "outputs": [],
   "source": [
    "ws[col3 + '6'] = f'=sum({float(ws[col2 + \"2\"].value)*float(ws[col3 + \"3\"].value)}:{float(ws[col3 + \"2\"].value)*float(ws[col3 + \"3\"].value)})' "
   ]
  },
  {
   "cell_type": "code",
   "execution_count": 50,
   "id": "ec0cc2fe",
   "metadata": {},
   "outputs": [],
   "source": [
    "wb.save('openpyxl_homework.xlsx')"
   ]
  },
  {
   "cell_type": "code",
   "execution_count": null,
   "id": "e0fb3ac1",
   "metadata": {},
   "outputs": [],
   "source": []
  }
 ],
 "metadata": {
  "kernelspec": {
   "display_name": "Python 3",
   "language": "python",
   "name": "python3"
  },
  "language_info": {
   "codemirror_mode": {
    "name": "ipython",
    "version": 3
   },
   "file_extension": ".py",
   "mimetype": "text/x-python",
   "name": "python",
   "nbconvert_exporter": "python",
   "pygments_lexer": "ipython3",
   "version": "3.8.8"
  }
 },
 "nbformat": 4,
 "nbformat_minor": 5
}
