{
 "cells": [
  {
   "cell_type": "code",
   "execution_count": 1,
   "id": "83408afe",
   "metadata": {},
   "outputs": [
    {
     "ename": "ModuleNotFoundError",
     "evalue": "No module named 'cv2'",
     "output_type": "error",
     "traceback": [
      "\u001b[0;31m---------------------------------------------------------------------------\u001b[0m",
      "\u001b[0;31mModuleNotFoundError\u001b[0m                       Traceback (most recent call last)",
      "\u001b[0;32m/var/folders/zy/1n_pz5vs3nq3j9xcl3jx553r0000gn/T/ipykernel_32180/1835460530.py\u001b[0m in \u001b[0;36m<module>\u001b[0;34m\u001b[0m\n\u001b[0;32m----> 1\u001b[0;31m \u001b[0;32mimport\u001b[0m \u001b[0mcv2\u001b[0m\u001b[0;34m\u001b[0m\u001b[0;34m\u001b[0m\u001b[0m\n\u001b[0m\u001b[1;32m      2\u001b[0m \u001b[0mESC\u001b[0m \u001b[0;34m=\u001b[0m \u001b[0;36m27\u001b[0m \u001b[0;31m#ASCII code of ESC is 27\u001b[0m\u001b[0;34m\u001b[0m\u001b[0;34m\u001b[0m\u001b[0m\n\u001b[1;32m      3\u001b[0m \u001b[0mcap\u001b[0m \u001b[0;34m=\u001b[0m \u001b[0mcv2\u001b[0m\u001b[0;34m.\u001b[0m\u001b[0mVideoCapture\u001b[0m\u001b[0;34m(\u001b[0m\u001b[0;36m0\u001b[0m\u001b[0;34m)\u001b[0m\u001b[0;31m#0 is the first camera of your computer\u001b[0m\u001b[0;34m\u001b[0m\u001b[0;34m\u001b[0m\u001b[0m\n\u001b[1;32m      4\u001b[0m \u001b[0mratio\u001b[0m \u001b[0;34m=\u001b[0m \u001b[0mcap\u001b[0m\u001b[0;34m.\u001b[0m\u001b[0mget\u001b[0m\u001b[0;34m(\u001b[0m\u001b[0mcv2\u001b[0m\u001b[0;34m.\u001b[0m\u001b[0mCAP_PROP_FRAME_WIDTH\u001b[0m\u001b[0;34m)\u001b[0m \u001b[0;34m/\u001b[0m \u001b[0mcap\u001b[0m\u001b[0;34m.\u001b[0m\u001b[0mget\u001b[0m\u001b[0;34m(\u001b[0m\u001b[0mcv2\u001b[0m\u001b[0;34m.\u001b[0m\u001b[0mCAP_PROP_FRAME_HEIGHT\u001b[0m\u001b[0;34m)\u001b[0m\u001b[0;31m# Get the ratio of camera\u001b[0m\u001b[0;34m\u001b[0m\u001b[0;34m\u001b[0m\u001b[0m\n\u001b[1;32m      5\u001b[0m \u001b[0mWIDTH\u001b[0m \u001b[0;34m=\u001b[0m \u001b[0;36m600\u001b[0m \u001b[0;31m# Change the width of frame\u001b[0m\u001b[0;34m\u001b[0m\u001b[0;34m\u001b[0m\u001b[0m\n",
      "\u001b[0;31mModuleNotFoundError\u001b[0m: No module named 'cv2'"
     ]
    }
   ],
   "source": [
    "import cv2\n",
    "ESC = 27 #ASCII code of ESC is 27\n",
    "cap = cv2.VideoCapture(0)#0 is the first camera of your computer\n",
    "ratio = cap.get(cv2.CAP_PROP_FRAME_WIDTH) / cap.get(cv2.CAP_PROP_FRAME_HEIGHT)# Get the ratio of camera\n",
    "WIDTH = 600 # Change the width of frame\n",
    "HEIGHT = int(WIDTH/ratio) # Change the height of frame\n",
    "cv2.namedWindow('test', cv2.WINDOW_NORMAL)\n",
    "face_cascade = cv2.CascadeClassifier(cv2.data.haarcascades + 'haarcascade_frontalface_alt2.xml')\n",
    "eye_cascade = cv2.CascadeClassifier(cv2.data.haarcascades + 'haarcascade_eye.xml')\n",
    "\n",
    "ret = True\n",
    "while ret:\n",
    "    ret, frame = cap.read()\n",
    "    frame = cv2.resize(frame, (WIDTH, HEIGHT))\n",
    "    frame = cv2.flip(frame, 1)    \n",
    "    gray = cv2.cvtColor(frame, cv2.COLOR_BGR2GRAY)\n",
    "    faces = face_cascade.detectMultiScale(gray, 1.3, 3)\n",
    "    \n",
    "    #for (x, y, w, h) in face:\n",
    "        #face_rect = gray[y:y+h, x:x+w]  # y first\n",
    "        #eyes = eye_cascade.detectMultiScale(face_rect, 1.3, 8)\n",
    "        #for (ex, ey, ew, eh) in eyes:\n",
    "           # centre = (x + ex + int(ew/2), y+ey+int(eh/2))\n",
    "            #r = int(min(ew, eh)/2)\n",
    "            ##r = int((ew, eh)/4)\n",
    "            #cv2.circle(frame, centre, r, (255, 255, 0), 2)\n",
    "            \n",
    "            \n",
    "    for (x, y, w, h) in faces:\n",
    "        #face_detection = cv2.rectangle(frame, (x, y), (x+w, y+h), (0, 0, 255), 2)\n",
    "        cv2.rectangle(frame, (x, y), (x+w, y+h), (0, 0, 255), 2)\n",
    "            \n",
    "    cv2.imshow('test', frame)\n",
    "      \n",
    "    if cv2.waitKey(10) == ESC:\n",
    "        break\n",
    "        \n",
    "cv2.destroyAllWindows()\n",
    "cv2.waitKey(1)   \n",
    "cap.release()"
   ]
  },
  {
   "cell_type": "code",
   "execution_count": null,
   "id": "ac102fd2",
   "metadata": {},
   "outputs": [],
   "source": []
  },
  {
   "cell_type": "code",
   "execution_count": 1,
   "id": "fa4b3b23",
   "metadata": {},
   "outputs": [
    {
     "ename": "ModuleNotFoundError",
     "evalue": "No module named 'cv2'",
     "output_type": "error",
     "traceback": [
      "\u001b[0;31m---------------------------------------------------------------------------\u001b[0m",
      "\u001b[0;31mModuleNotFoundError\u001b[0m                       Traceback (most recent call last)",
      "\u001b[0;32m/var/folders/zy/1n_pz5vs3nq3j9xcl3jx553r0000gn/T/ipykernel_32180/1835460530.py\u001b[0m in \u001b[0;36m<module>\u001b[0;34m\u001b[0m\n\u001b[0;32m----> 1\u001b[0;31m \u001b[0;32mimport\u001b[0m \u001b[0mcv2\u001b[0m\u001b[0;34m\u001b[0m\u001b[0;34m\u001b[0m\u001b[0m\n\u001b[0m\u001b[1;32m      2\u001b[0m \u001b[0mESC\u001b[0m \u001b[0;34m=\u001b[0m \u001b[0;36m27\u001b[0m \u001b[0;31m#ASCII code of ESC is 27\u001b[0m\u001b[0;34m\u001b[0m\u001b[0;34m\u001b[0m\u001b[0m\n\u001b[1;32m      3\u001b[0m \u001b[0mcap\u001b[0m \u001b[0;34m=\u001b[0m \u001b[0mcv2\u001b[0m\u001b[0;34m.\u001b[0m\u001b[0mVideoCapture\u001b[0m\u001b[0;34m(\u001b[0m\u001b[0;36m0\u001b[0m\u001b[0;34m)\u001b[0m\u001b[0;31m#0 is the first camera of your computer\u001b[0m\u001b[0;34m\u001b[0m\u001b[0;34m\u001b[0m\u001b[0m\n\u001b[1;32m      4\u001b[0m \u001b[0mratio\u001b[0m \u001b[0;34m=\u001b[0m \u001b[0mcap\u001b[0m\u001b[0;34m.\u001b[0m\u001b[0mget\u001b[0m\u001b[0;34m(\u001b[0m\u001b[0mcv2\u001b[0m\u001b[0;34m.\u001b[0m\u001b[0mCAP_PROP_FRAME_WIDTH\u001b[0m\u001b[0;34m)\u001b[0m \u001b[0;34m/\u001b[0m \u001b[0mcap\u001b[0m\u001b[0;34m.\u001b[0m\u001b[0mget\u001b[0m\u001b[0;34m(\u001b[0m\u001b[0mcv2\u001b[0m\u001b[0;34m.\u001b[0m\u001b[0mCAP_PROP_FRAME_HEIGHT\u001b[0m\u001b[0;34m)\u001b[0m\u001b[0;31m# Get the ratio of camera\u001b[0m\u001b[0;34m\u001b[0m\u001b[0;34m\u001b[0m\u001b[0m\n\u001b[1;32m      5\u001b[0m \u001b[0mWIDTH\u001b[0m \u001b[0;34m=\u001b[0m \u001b[0;36m600\u001b[0m \u001b[0;31m# Change the width of frame\u001b[0m\u001b[0;34m\u001b[0m\u001b[0;34m\u001b[0m\u001b[0m\n",
      "\u001b[0;31mModuleNotFoundError\u001b[0m: No module named 'cv2'"
     ]
    }
   ],
   "source": [
    "import cv2\n",
    "ESC = 27 #ASCII code of ESC is 27\n",
    "cap = cv2.VideoCapture(0)#0 is the first camera of your computer\n",
    "ratio = cap.get(cv2.CAP_PROP_FRAME_WIDTH) / cap.get(cv2.CAP_PROP_FRAME_HEIGHT)# Get the ratio of camera\n",
    "WIDTH = 600 # Change the width of frame\n",
    "HEIGHT = int(WIDTH/ratio) # Change the height of frame\n",
    "cv2.namedWindow('test', cv2.WINDOW_NORMAL)\n",
    "face_cascade = cv2.CascadeClassifier(cv2.data.haarcascades + 'haarcascade_frontalface_alt2.xml')\n",
    "eye_cascade = cv2.CascadeClassifier(cv2.data.haarcascades + 'haarcascade_eye.xml')\n",
    "\n",
    "ret = True\n",
    "while ret:\n",
    "    ret, frame = cap.read()\n",
    "    frame = cv2.resize(frame, (WIDTH, HEIGHT))\n",
    "    frame = cv2.flip(frame, 1)    \n",
    "    gray = cv2.cvtColor(frame, cv2.COLOR_BGR2GRAY)\n",
    "    faces = face_cascade.detectMultiScale(gray, 1.3, 3)\n",
    "    \n",
    "    #for (x, y, w, h) in face:\n",
    "        #face_rect = gray[y:y+h, x:x+w]  # y first\n",
    "        #eyes = eye_cascade.detectMultiScale(face_rect, 1.3, 8)\n",
    "        #for (ex, ey, ew, eh) in eyes:\n",
    "           # centre = (x + ex + int(ew/2), y+ey+int(eh/2))\n",
    "            #r = int(min(ew, eh)/2)\n",
    "            ##r = int((ew, eh)/4)\n",
    "            #cv2.circle(frame, centre, r, (255, 255, 0), 2)\n",
    "            \n",
    "            \n",
    "    for (x, y, w, h) in faces:\n",
    "        #face_detection = cv2.rectangle(frame, (x, y), (x+w, y+h), (0, 0, 255), 2)\n",
    "        cv2.rectangle(frame, (x, y), (x+w, y+h), (0, 0, 255), 2)\n",
    "            \n",
    "    cv2.imshow('test', frame)\n",
    "      \n",
    "    if cv2.waitKey(10) == ESC:\n",
    "        break\n",
    "        \n",
    "cv2.destroyAllWindows()\n",
    "cv2.waitKey(1)   \n",
    "cap.release()"
   ]
  }
 ],
 "metadata": {
  "kernelspec": {
   "display_name": "Python 3 (ipykernel)",
   "language": "python",
   "name": "python3"
  },
  "language_info": {
   "codemirror_mode": {
    "name": "ipython",
    "version": 3
   },
   "file_extension": ".py",
   "mimetype": "text/x-python",
   "name": "python",
   "nbconvert_exporter": "python",
   "pygments_lexer": "ipython3",
   "version": "3.8.12"
  }
 },
 "nbformat": 4,
 "nbformat_minor": 5
}
