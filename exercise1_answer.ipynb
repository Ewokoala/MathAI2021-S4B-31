{
 "cells": [
  {
   "cell_type": "code",
   "execution_count": 49,
   "id": "c666442e",
   "metadata": {},
   "outputs": [
    {
     "name": "stdout",
     "output_type": "stream",
     "text": [
      "Sun.\tMon.\tTur\tWed.\tThu.\tFri.\tSat.\n",
      "1\t2\t3\t4\t5\t6\t7\n"
     ]
    }
   ],
   "source": [
    "print('Sun.\\tMon.\\tTur\\tWed.\\tThu.\\tFri.\\tSat.')\n",
    "print('1\\t2\\t3\\t4\\t5\\t6\\t7')\n"
   ]
  },
  {
   "cell_type": "code",
   "execution_count": 22,
   "id": "83352942",
   "metadata": {},
   "outputs": [
    {
     "name": "stdout",
     "output_type": "stream",
     "text": [
      "input year  2020\n",
      "input month (1-12)  12\n",
      "what day is it? (0-6) (Sun-Sat)  0\n",
      "\n",
      "\n",
      "Sun. \t Mon. \t Tur. \t Wed. \t Thu. \t Fri. \t Sat. \t\n",
      "1\t 2\t 3\t 4\t 5\t 6\t 7\t \n",
      "8\t 9\t 10\t 11\t 12\t 13\t 14\t \n",
      "15\t 16\t 17\t 18\t 19\t 20\t 21\t \n",
      "22\t 23\t 24\t 25\t 26\t 27\t 28\t \n",
      "29\t 30\t 31\t "
     ]
    }
   ],
   "source": [
    "year = int(input('input year  '))\n",
    "month = int(input('input month (1-12)  '))\n",
    "day = int(input('what day is it? (0-6) (Sun-Sat)  '))\n",
    "print('\\n')\n",
    "\n",
    "def leap(year):\n",
    "    if year % 400 == 0:\n",
    "        return True\n",
    "    elif year % 100 == 0:\n",
    "        return False\n",
    "    elif year % 4 ==0:\n",
    "        return True\n",
    "    else:\n",
    "        return False\n",
    "    \n",
    "if month == 2:\n",
    "    if leap(year):\n",
    "        last_date = 29\n",
    "    else:\n",
    "        last_date = 28\n",
    "\n",
    "elif month == 1 or month == 3 or month == 5 or month == 7 or month == 8 or month == 10 or month == 12:\n",
    "    last_date = 31\n",
    "    \n",
    "elif month == 4 or month == 6 or month == 9 or month == 11:\n",
    "    last_date = 30\n",
    "    \n",
    "print('Sun. \\t Mon. \\t Tur. \\t Wed. \\t Thu. \\t Fri. \\t Sat. \\t')\n",
    "print('\\t ' * day, end = '')\n",
    "for i in range(1, last_date+1):\n",
    "    print(str(i) + '\\t ', end = '')\n",
    "    if (i + day) % 7 == 0:\n",
    "        print(end = '\\n')"
   ]
  },
  {
   "cell_type": "code",
   "execution_count": 25,
   "id": "e446158d",
   "metadata": {},
   "outputs": [
    {
     "name": "stdout",
     "output_type": "stream",
     "text": [
      "no:  12\n",
      "name:  apple\n",
      "amount: 10\n",
      "no:  12\n",
      "no.: 12; name: apple; amount:10\n",
      "amount: no1\n",
      "no:  12\n",
      "no.: 12; name: apple; amount:no1\n",
      "amount: 15\n",
      "no:  12\n",
      "no.: 12; name: apple; amount:15\n",
      "amount: 15\n",
      "no:  fff\n",
      "name:  FFF\n",
      "amount: FFF\n",
      "no:  FFF\n"
     ]
    }
   ],
   "source": [
    "inventory = {}\n",
    "\n",
    "while True:\n",
    "    item_no = input(\"no:  \")\n",
    "    if item_no == 'FFF':\n",
    "        break\n",
    "    else:\n",
    "        data = inventory.get(item_no, [])\n",
    "        if data == []:\n",
    "            data.append(input('name:  '))\n",
    "            data.append(input('amount: '))\n",
    "            inventory[item_no] = data\n",
    "        else:\n",
    "            print('no.: ' + item_no + ', name: ' + data[0] + ', amount:' + data[1])\n",
    "            data[1] = input('amount: ')\n",
    "            inventory[item_no] = data"
   ]
  }
 ],
 "metadata": {
  "kernelspec": {
   "display_name": "Python 3",
   "language": "python",
   "name": "python3"
  },
  "language_info": {
   "codemirror_mode": {
    "name": "ipython",
    "version": 3
   },
   "file_extension": ".py",
   "mimetype": "text/x-python",
   "name": "python",
   "nbconvert_exporter": "python",
   "pygments_lexer": "ipython3",
   "version": "3.8.8"
  }
 },
 "nbformat": 4,
 "nbformat_minor": 5
}
