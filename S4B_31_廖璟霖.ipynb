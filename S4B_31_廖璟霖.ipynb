{
 "cells": [
  {
   "cell_type": "code",
   "execution_count": null,
   "id": "0997dc94",
   "metadata": {},
   "outputs": [],
   "source": [
    "import numpy as np\n",
    "bingo = np.random.randint(1, 99) # random int from 1 to 99\n",
    "print(bingo)"
   ]
  },
  {
   "cell_type": "code",
   "execution_count": null,
   "id": "0453867f",
   "metadata": {},
   "outputs": [],
   "source": [
    "remain = [1,100]\n",
    "\n",
    "while True:\n",
    "    try: \n",
    "        guess = int(input('enter number: '))  \n",
    "    \n",
    "        if guess < remain[0] or guess > remain[1]:\n",
    "            print('-invalid number, try again-')\n",
    "            print(remain)\n",
    "        elif guess == bingo:\n",
    "            print('game over')\n",
    "            break \n",
    "        elif guess > bingo:\n",
    "            remain[1] = guess\n",
    "            print(remain)\n",
    "        elif guess < bingo:\n",
    "            remain[0] = guess\n",
    "            print(remain)\n",
    "\n",
    "    except ValueError:\n",
    "        print('-please enter a number-')"
   ]
  },
  {
   "cell_type": "code",
   "execution_count": null,
   "id": "d4cd77c5",
   "metadata": {},
   "outputs": [],
   "source": []
  }
 ],
 "metadata": {
  "kernelspec": {
   "display_name": "Python 3",
   "language": "python",
   "name": "python3"
  },
  "language_info": {
   "codemirror_mode": {
    "name": "ipython",
    "version": 3
   },
   "file_extension": ".py",
   "mimetype": "text/x-python",
   "name": "python",
   "nbconvert_exporter": "python",
   "pygments_lexer": "ipython3",
   "version": "3.8.8"
  }
 },
 "nbformat": 4,
 "nbformat_minor": 5
}
